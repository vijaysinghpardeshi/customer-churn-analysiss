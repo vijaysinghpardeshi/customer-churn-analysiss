{
 "cells": [
  {
   "cell_type": "markdown",
   "id": "cf113557",
   "metadata": {},
   "source": [
    "# Customer Churn Analysis\n",
    "\n",
    "Problem Statement:\n",
    "\n",
    "Customer churn is when a company’s customers stop doing business with that company. Businesses are very keen on measuring churn because keeping an existing customer is far less expensive than acquiring a new customer. New business involves working leads through a sales funnel, using marketing and sales budgets to gain additional customers. Existing customers will often have a higher volume of service consumption and can generate additional customer referrals.\n",
    "\n",
    "Customer retention can be achieved with good customer service and products. But the most effective way for a company to prevent attrition of customers is to truly know them. The vast volumes of data collected about customers can be used to build churn prediction models. Knowing who is most likely to defect means that a company can prioritise focused marketing efforts on that subset of their customer base.\n",
    "\n",
    "Preventing customer churn is critically important to the telecommunications sector, as the barriers to entry for switching services are so low. \n",
    "\n",
    "You will examine customer data from IBM Sample Data Sets with the aim of building and comparing several customer churn prediction models."
   ]
  },
  {
   "cell_type": "code",
   "execution_count": 655,
   "id": "abf2f678",
   "metadata": {},
   "outputs": [],
   "source": [
    "# Importing necesssary libraries\n",
    "import pandas as pd\n",
    "import numpy as np\n",
    "import seaborn as sns\n",
    "import matplotlib.pyplot as plt\n",
    "import warnings\n",
    "warnings.filterwarnings('ignore')"
   ]
  },
  {
   "cell_type": "code",
   "execution_count": 656,
   "id": "37401750",
   "metadata": {},
   "outputs": [
    {
     "data": {
      "text/html": [
       "<div>\n",
       "<style scoped>\n",
       "    .dataframe tbody tr th:only-of-type {\n",
       "        vertical-align: middle;\n",
       "    }\n",
       "\n",
       "    .dataframe tbody tr th {\n",
       "        vertical-align: top;\n",
       "    }\n",
       "\n",
       "    .dataframe thead th {\n",
       "        text-align: right;\n",
       "    }\n",
       "</style>\n",
       "<table border=\"1\" class=\"dataframe\">\n",
       "  <thead>\n",
       "    <tr style=\"text-align: right;\">\n",
       "      <th></th>\n",
       "      <th>customerID</th>\n",
       "      <th>gender</th>\n",
       "      <th>SeniorCitizen</th>\n",
       "      <th>Partner</th>\n",
       "      <th>Dependents</th>\n",
       "      <th>tenure</th>\n",
       "      <th>PhoneService</th>\n",
       "      <th>MultipleLines</th>\n",
       "      <th>InternetService</th>\n",
       "      <th>OnlineSecurity</th>\n",
       "      <th>...</th>\n",
       "      <th>DeviceProtection</th>\n",
       "      <th>TechSupport</th>\n",
       "      <th>StreamingTV</th>\n",
       "      <th>StreamingMovies</th>\n",
       "      <th>Contract</th>\n",
       "      <th>PaperlessBilling</th>\n",
       "      <th>PaymentMethod</th>\n",
       "      <th>MonthlyCharges</th>\n",
       "      <th>TotalCharges</th>\n",
       "      <th>Churn</th>\n",
       "    </tr>\n",
       "  </thead>\n",
       "  <tbody>\n",
       "    <tr>\n",
       "      <th>0</th>\n",
       "      <td>7590-VHVEG</td>\n",
       "      <td>Female</td>\n",
       "      <td>0.0</td>\n",
       "      <td>Yes</td>\n",
       "      <td>No</td>\n",
       "      <td>1.0</td>\n",
       "      <td>No</td>\n",
       "      <td>No phone service</td>\n",
       "      <td>DSL</td>\n",
       "      <td>No</td>\n",
       "      <td>...</td>\n",
       "      <td>No</td>\n",
       "      <td>No</td>\n",
       "      <td>No</td>\n",
       "      <td>No</td>\n",
       "      <td>Month-to-month</td>\n",
       "      <td>Yes</td>\n",
       "      <td>Electronic check</td>\n",
       "      <td>29.85</td>\n",
       "      <td>29.85</td>\n",
       "      <td>No</td>\n",
       "    </tr>\n",
       "    <tr>\n",
       "      <th>1</th>\n",
       "      <td>5575-GNVDE</td>\n",
       "      <td>Male</td>\n",
       "      <td>0.0</td>\n",
       "      <td>No</td>\n",
       "      <td>No</td>\n",
       "      <td>34.0</td>\n",
       "      <td>Yes</td>\n",
       "      <td>No</td>\n",
       "      <td>DSL</td>\n",
       "      <td>Yes</td>\n",
       "      <td>...</td>\n",
       "      <td>Yes</td>\n",
       "      <td>No</td>\n",
       "      <td>No</td>\n",
       "      <td>No</td>\n",
       "      <td>One year</td>\n",
       "      <td>No</td>\n",
       "      <td>Mailed check</td>\n",
       "      <td>56.95</td>\n",
       "      <td>1889.5</td>\n",
       "      <td>No</td>\n",
       "    </tr>\n",
       "    <tr>\n",
       "      <th>2</th>\n",
       "      <td>3668-QPYBK</td>\n",
       "      <td>Male</td>\n",
       "      <td>0.0</td>\n",
       "      <td>No</td>\n",
       "      <td>No</td>\n",
       "      <td>2.0</td>\n",
       "      <td>Yes</td>\n",
       "      <td>No</td>\n",
       "      <td>DSL</td>\n",
       "      <td>Yes</td>\n",
       "      <td>...</td>\n",
       "      <td>No</td>\n",
       "      <td>No</td>\n",
       "      <td>No</td>\n",
       "      <td>No</td>\n",
       "      <td>Month-to-month</td>\n",
       "      <td>Yes</td>\n",
       "      <td>Mailed check</td>\n",
       "      <td>53.85</td>\n",
       "      <td>108.15</td>\n",
       "      <td>Yes</td>\n",
       "    </tr>\n",
       "    <tr>\n",
       "      <th>3</th>\n",
       "      <td>7795-CFOCW</td>\n",
       "      <td>Male</td>\n",
       "      <td>0.0</td>\n",
       "      <td>No</td>\n",
       "      <td>No</td>\n",
       "      <td>45.0</td>\n",
       "      <td>No</td>\n",
       "      <td>No phone service</td>\n",
       "      <td>DSL</td>\n",
       "      <td>Yes</td>\n",
       "      <td>...</td>\n",
       "      <td>Yes</td>\n",
       "      <td>Yes</td>\n",
       "      <td>No</td>\n",
       "      <td>No</td>\n",
       "      <td>One year</td>\n",
       "      <td>No</td>\n",
       "      <td>Bank transfer (automatic)</td>\n",
       "      <td>42.30</td>\n",
       "      <td>1840.75</td>\n",
       "      <td>No</td>\n",
       "    </tr>\n",
       "    <tr>\n",
       "      <th>4</th>\n",
       "      <td>9237-HQITU</td>\n",
       "      <td>Female</td>\n",
       "      <td>0.0</td>\n",
       "      <td>No</td>\n",
       "      <td>No</td>\n",
       "      <td>2.0</td>\n",
       "      <td>Yes</td>\n",
       "      <td>No</td>\n",
       "      <td>Fiber optic</td>\n",
       "      <td>No</td>\n",
       "      <td>...</td>\n",
       "      <td>No</td>\n",
       "      <td>No</td>\n",
       "      <td>No</td>\n",
       "      <td>No</td>\n",
       "      <td>Month-to-month</td>\n",
       "      <td>Yes</td>\n",
       "      <td>Electronic check</td>\n",
       "      <td>70.70</td>\n",
       "      <td>151.65</td>\n",
       "      <td>Yes</td>\n",
       "    </tr>\n",
       "    <tr>\n",
       "      <th>...</th>\n",
       "      <td>...</td>\n",
       "      <td>...</td>\n",
       "      <td>...</td>\n",
       "      <td>...</td>\n",
       "      <td>...</td>\n",
       "      <td>...</td>\n",
       "      <td>...</td>\n",
       "      <td>...</td>\n",
       "      <td>...</td>\n",
       "      <td>...</td>\n",
       "      <td>...</td>\n",
       "      <td>...</td>\n",
       "      <td>...</td>\n",
       "      <td>...</td>\n",
       "      <td>...</td>\n",
       "      <td>...</td>\n",
       "      <td>...</td>\n",
       "      <td>...</td>\n",
       "      <td>...</td>\n",
       "      <td>...</td>\n",
       "      <td>...</td>\n",
       "    </tr>\n",
       "    <tr>\n",
       "      <th>5093</th>\n",
       "      <td>2676-SSLTO</td>\n",
       "      <td>Male</td>\n",
       "      <td>0.0</td>\n",
       "      <td>No</td>\n",
       "      <td>No</td>\n",
       "      <td>49.0</td>\n",
       "      <td>Yes</td>\n",
       "      <td>Yes</td>\n",
       "      <td>DSL</td>\n",
       "      <td>No</td>\n",
       "      <td>...</td>\n",
       "      <td>No</td>\n",
       "      <td>Yes</td>\n",
       "      <td>Yes</td>\n",
       "      <td>No</td>\n",
       "      <td>Two year</td>\n",
       "      <td>Yes</td>\n",
       "      <td>Bank transfer (automatic)</td>\n",
       "      <td>66.15</td>\n",
       "      <td>3199</td>\n",
       "      <td>No</td>\n",
       "    </tr>\n",
       "    <tr>\n",
       "      <th>5094</th>\n",
       "      <td>6266-QHOJZ</td>\n",
       "      <td>Female</td>\n",
       "      <td>0.0</td>\n",
       "      <td>No</td>\n",
       "      <td>No</td>\n",
       "      <td>65.0</td>\n",
       "      <td>Yes</td>\n",
       "      <td>Yes</td>\n",
       "      <td>Fiber optic</td>\n",
       "      <td>Yes</td>\n",
       "      <td>...</td>\n",
       "      <td>No</td>\n",
       "      <td>Yes</td>\n",
       "      <td>No</td>\n",
       "      <td>No</td>\n",
       "      <td>One year</td>\n",
       "      <td>Yes</td>\n",
       "      <td>Electronic check</td>\n",
       "      <td>89.85</td>\n",
       "      <td>5844.65</td>\n",
       "      <td>No</td>\n",
       "    </tr>\n",
       "    <tr>\n",
       "      <th>5095</th>\n",
       "      <td>7269-JISCY</td>\n",
       "      <td>Female</td>\n",
       "      <td>0.0</td>\n",
       "      <td>No</td>\n",
       "      <td>No</td>\n",
       "      <td>55.0</td>\n",
       "      <td>Yes</td>\n",
       "      <td>No</td>\n",
       "      <td>DSL</td>\n",
       "      <td>No</td>\n",
       "      <td>...</td>\n",
       "      <td>No</td>\n",
       "      <td>No</td>\n",
       "      <td>No</td>\n",
       "      <td>No</td>\n",
       "      <td>One year</td>\n",
       "      <td>No</td>\n",
       "      <td>Bank transfer (automatic)</td>\n",
       "      <td>45.05</td>\n",
       "      <td>2462.6</td>\n",
       "      <td>No</td>\n",
       "    </tr>\n",
       "    <tr>\n",
       "      <th>5096</th>\n",
       "      <td>0363-SVHYR</td>\n",
       "      <td>Male</td>\n",
       "      <td>0.0</td>\n",
       "      <td>Yes</td>\n",
       "      <td>Yes</td>\n",
       "      <td>71.0</td>\n",
       "      <td>Yes</td>\n",
       "      <td>Yes</td>\n",
       "      <td>DSL</td>\n",
       "      <td>Yes</td>\n",
       "      <td>...</td>\n",
       "      <td>Yes</td>\n",
       "      <td>Yes</td>\n",
       "      <td>Yes</td>\n",
       "      <td>Yes</td>\n",
       "      <td>Two year</td>\n",
       "      <td>No</td>\n",
       "      <td>Bank transfer (automatic)</td>\n",
       "      <td>86.85</td>\n",
       "      <td>6263.8</td>\n",
       "      <td>No</td>\n",
       "    </tr>\n",
       "    <tr>\n",
       "      <th>5097</th>\n",
       "      <td>85</td>\n",
       "      <td>NaN</td>\n",
       "      <td>NaN</td>\n",
       "      <td>NaN</td>\n",
       "      <td>NaN</td>\n",
       "      <td>NaN</td>\n",
       "      <td>NaN</td>\n",
       "      <td>NaN</td>\n",
       "      <td>NaN</td>\n",
       "      <td>NaN</td>\n",
       "      <td>...</td>\n",
       "      <td>NaN</td>\n",
       "      <td>NaN</td>\n",
       "      <td>NaN</td>\n",
       "      <td>NaN</td>\n",
       "      <td>NaN</td>\n",
       "      <td>NaN</td>\n",
       "      <td>NaN</td>\n",
       "      <td>NaN</td>\n",
       "      <td>NaN</td>\n",
       "      <td>NaN</td>\n",
       "    </tr>\n",
       "  </tbody>\n",
       "</table>\n",
       "<p>5098 rows × 21 columns</p>\n",
       "</div>"
      ],
      "text/plain": [
       "      customerID  gender  SeniorCitizen Partner Dependents  tenure  \\\n",
       "0     7590-VHVEG  Female            0.0     Yes         No     1.0   \n",
       "1     5575-GNVDE    Male            0.0      No         No    34.0   \n",
       "2     3668-QPYBK    Male            0.0      No         No     2.0   \n",
       "3     7795-CFOCW    Male            0.0      No         No    45.0   \n",
       "4     9237-HQITU  Female            0.0      No         No     2.0   \n",
       "...          ...     ...            ...     ...        ...     ...   \n",
       "5093  2676-SSLTO    Male            0.0      No         No    49.0   \n",
       "5094  6266-QHOJZ  Female            0.0      No         No    65.0   \n",
       "5095  7269-JISCY  Female            0.0      No         No    55.0   \n",
       "5096  0363-SVHYR    Male            0.0     Yes        Yes    71.0   \n",
       "5097          85     NaN            NaN     NaN        NaN     NaN   \n",
       "\n",
       "     PhoneService     MultipleLines InternetService OnlineSecurity  ...  \\\n",
       "0              No  No phone service             DSL             No  ...   \n",
       "1             Yes                No             DSL            Yes  ...   \n",
       "2             Yes                No             DSL            Yes  ...   \n",
       "3              No  No phone service             DSL            Yes  ...   \n",
       "4             Yes                No     Fiber optic             No  ...   \n",
       "...           ...               ...             ...            ...  ...   \n",
       "5093          Yes               Yes             DSL             No  ...   \n",
       "5094          Yes               Yes     Fiber optic            Yes  ...   \n",
       "5095          Yes                No             DSL             No  ...   \n",
       "5096          Yes               Yes             DSL            Yes  ...   \n",
       "5097          NaN               NaN             NaN            NaN  ...   \n",
       "\n",
       "     DeviceProtection TechSupport StreamingTV StreamingMovies        Contract  \\\n",
       "0                  No          No          No              No  Month-to-month   \n",
       "1                 Yes          No          No              No        One year   \n",
       "2                  No          No          No              No  Month-to-month   \n",
       "3                 Yes         Yes          No              No        One year   \n",
       "4                  No          No          No              No  Month-to-month   \n",
       "...               ...         ...         ...             ...             ...   \n",
       "5093               No         Yes         Yes              No        Two year   \n",
       "5094               No         Yes          No              No        One year   \n",
       "5095               No          No          No              No        One year   \n",
       "5096              Yes         Yes         Yes             Yes        Two year   \n",
       "5097              NaN         NaN         NaN             NaN             NaN   \n",
       "\n",
       "     PaperlessBilling              PaymentMethod MonthlyCharges  TotalCharges  \\\n",
       "0                 Yes           Electronic check          29.85         29.85   \n",
       "1                  No               Mailed check          56.95        1889.5   \n",
       "2                 Yes               Mailed check          53.85        108.15   \n",
       "3                  No  Bank transfer (automatic)          42.30       1840.75   \n",
       "4                 Yes           Electronic check          70.70        151.65   \n",
       "...               ...                        ...            ...           ...   \n",
       "5093              Yes  Bank transfer (automatic)          66.15          3199   \n",
       "5094              Yes           Electronic check          89.85       5844.65   \n",
       "5095               No  Bank transfer (automatic)          45.05        2462.6   \n",
       "5096               No  Bank transfer (automatic)          86.85        6263.8   \n",
       "5097              NaN                        NaN            NaN           NaN   \n",
       "\n",
       "     Churn  \n",
       "0       No  \n",
       "1       No  \n",
       "2      Yes  \n",
       "3       No  \n",
       "4      Yes  \n",
       "...    ...  \n",
       "5093    No  \n",
       "5094    No  \n",
       "5095    No  \n",
       "5096    No  \n",
       "5097   NaN  \n",
       "\n",
       "[5098 rows x 21 columns]"
      ]
     },
     "execution_count": 656,
     "metadata": {},
     "output_type": "execute_result"
    }
   ],
   "source": [
    "df=pd.read_csv('Customer Churn Analysis.csv')\n",
    "df"
   ]
  },
  {
   "cell_type": "code",
   "execution_count": 657,
   "id": "7ba56f7a",
   "metadata": {},
   "outputs": [
    {
     "data": {
      "text/plain": [
       "Index(['customerID', 'gender', 'SeniorCitizen', 'Partner', 'Dependents',\n",
       "       'tenure', 'PhoneService', 'MultipleLines', 'InternetService',\n",
       "       'OnlineSecurity', 'OnlineBackup', 'DeviceProtection', 'TechSupport',\n",
       "       'StreamingTV', 'StreamingMovies', 'Contract', 'PaperlessBilling',\n",
       "       'PaymentMethod', 'MonthlyCharges', 'TotalCharges', 'Churn'],\n",
       "      dtype='object')"
      ]
     },
     "execution_count": 657,
     "metadata": {},
     "output_type": "execute_result"
    }
   ],
   "source": [
    "df.columns"
   ]
  },
  {
   "cell_type": "markdown",
   "id": "e22df6c6",
   "metadata": {},
   "source": [
    "Churn is our target column."
   ]
  },
  {
   "cell_type": "code",
   "execution_count": 658,
   "id": "9edcbd12",
   "metadata": {},
   "outputs": [
    {
     "name": "stdout",
     "output_type": "stream",
     "text": [
      "<class 'pandas.core.frame.DataFrame'>\n",
      "RangeIndex: 5098 entries, 0 to 5097\n",
      "Data columns (total 21 columns):\n",
      " #   Column            Non-Null Count  Dtype  \n",
      "---  ------            --------------  -----  \n",
      " 0   customerID        5098 non-null   object \n",
      " 1   gender            5097 non-null   object \n",
      " 2   SeniorCitizen     5097 non-null   float64\n",
      " 3   Partner           5097 non-null   object \n",
      " 4   Dependents        5097 non-null   object \n",
      " 5   tenure            5097 non-null   float64\n",
      " 6   PhoneService      5097 non-null   object \n",
      " 7   MultipleLines     5097 non-null   object \n",
      " 8   InternetService   5097 non-null   object \n",
      " 9   OnlineSecurity    5097 non-null   object \n",
      " 10  OnlineBackup      5097 non-null   object \n",
      " 11  DeviceProtection  5097 non-null   object \n",
      " 12  TechSupport       5097 non-null   object \n",
      " 13  StreamingTV       5097 non-null   object \n",
      " 14  StreamingMovies   5097 non-null   object \n",
      " 15  Contract          5097 non-null   object \n",
      " 16  PaperlessBilling  5097 non-null   object \n",
      " 17  PaymentMethod     5097 non-null   object \n",
      " 18  MonthlyCharges    5097 non-null   float64\n",
      " 19  TotalCharges      5097 non-null   object \n",
      " 20  Churn             5097 non-null   object \n",
      "dtypes: float64(3), object(18)\n",
      "memory usage: 836.5+ KB\n"
     ]
    }
   ],
   "source": [
    "# checking information\n",
    "df.info()"
   ]
  },
  {
   "cell_type": "code",
   "execution_count": 659,
   "id": "9bb05d5f",
   "metadata": {},
   "outputs": [],
   "source": [
    "# Removing Customer ID\n",
    "df.drop('customerID',axis=1,inplace=True)"
   ]
  },
  {
   "cell_type": "code",
   "execution_count": 660,
   "id": "0040a6f4",
   "metadata": {},
   "outputs": [
    {
     "name": "stdout",
     "output_type": "stream",
     "text": [
      "Dataset have 5098 rows and 20 columns\n"
     ]
    }
   ],
   "source": [
    "print('Dataset have',df.shape[0],'rows and',df.shape[1],'columns')"
   ]
  },
  {
   "cell_type": "markdown",
   "id": "262e1904",
   "metadata": {},
   "source": [
    "# Checking Data Types"
   ]
  },
  {
   "cell_type": "code",
   "execution_count": 661,
   "id": "b6c1ce40",
   "metadata": {
    "scrolled": false
   },
   "outputs": [
    {
     "data": {
      "text/plain": [
       "gender               object\n",
       "SeniorCitizen       float64\n",
       "Partner              object\n",
       "Dependents           object\n",
       "tenure              float64\n",
       "PhoneService         object\n",
       "MultipleLines        object\n",
       "InternetService      object\n",
       "OnlineSecurity       object\n",
       "OnlineBackup         object\n",
       "DeviceProtection     object\n",
       "TechSupport          object\n",
       "StreamingTV          object\n",
       "StreamingMovies      object\n",
       "Contract             object\n",
       "PaperlessBilling     object\n",
       "PaymentMethod        object\n",
       "MonthlyCharges      float64\n",
       "TotalCharges         object\n",
       "Churn                object\n",
       "dtype: object"
      ]
     },
     "execution_count": 661,
     "metadata": {},
     "output_type": "execute_result"
    }
   ],
   "source": [
    "df.dtypes"
   ]
  },
  {
   "cell_type": "markdown",
   "id": "8b070751",
   "metadata": {},
   "source": [
    "We can observe that tha \"Total Charges\" has continous data but it is an object type. Let us handle this column."
   ]
  },
  {
   "cell_type": "code",
   "execution_count": 662,
   "id": "c8d7c10b",
   "metadata": {},
   "outputs": [
    {
     "data": {
      "text/plain": [
       "array(['29.85', '1889.5', '108.15', ..., '2462.6', '6263.8', nan],\n",
       "      dtype=object)"
      ]
     },
     "execution_count": 662,
     "metadata": {},
     "output_type": "execute_result"
    }
   ],
   "source": [
    "df['TotalCharges'].unique()"
   ]
  },
  {
   "cell_type": "code",
   "execution_count": 663,
   "id": "68b5ec78",
   "metadata": {},
   "outputs": [
    {
     "data": {
      "text/plain": [
       "4798"
      ]
     },
     "execution_count": 663,
     "metadata": {},
     "output_type": "execute_result"
    }
   ],
   "source": [
    "df['TotalCharges'].nunique()"
   ]
  },
  {
   "cell_type": "code",
   "execution_count": 664,
   "id": "b3e86d0d",
   "metadata": {},
   "outputs": [
    {
     "data": {
      "text/plain": [
       "(5098, 20)"
      ]
     },
     "execution_count": 664,
     "metadata": {},
     "output_type": "execute_result"
    }
   ],
   "source": [
    "df.shape"
   ]
  },
  {
   "cell_type": "code",
   "execution_count": 665,
   "id": "dcc38f38",
   "metadata": {
    "scrolled": true
   },
   "outputs": [
    {
     "data": {
      "text/html": [
       "<div>\n",
       "<style scoped>\n",
       "    .dataframe tbody tr th:only-of-type {\n",
       "        vertical-align: middle;\n",
       "    }\n",
       "\n",
       "    .dataframe tbody tr th {\n",
       "        vertical-align: top;\n",
       "    }\n",
       "\n",
       "    .dataframe thead th {\n",
       "        text-align: right;\n",
       "    }\n",
       "</style>\n",
       "<table border=\"1\" class=\"dataframe\">\n",
       "  <thead>\n",
       "    <tr style=\"text-align: right;\">\n",
       "      <th></th>\n",
       "      <th>gender</th>\n",
       "      <th>SeniorCitizen</th>\n",
       "      <th>Partner</th>\n",
       "      <th>Dependents</th>\n",
       "      <th>tenure</th>\n",
       "      <th>PhoneService</th>\n",
       "      <th>MultipleLines</th>\n",
       "      <th>InternetService</th>\n",
       "      <th>OnlineSecurity</th>\n",
       "      <th>OnlineBackup</th>\n",
       "      <th>DeviceProtection</th>\n",
       "      <th>TechSupport</th>\n",
       "      <th>StreamingTV</th>\n",
       "      <th>StreamingMovies</th>\n",
       "      <th>Contract</th>\n",
       "      <th>PaperlessBilling</th>\n",
       "      <th>PaymentMethod</th>\n",
       "      <th>MonthlyCharges</th>\n",
       "      <th>TotalCharges</th>\n",
       "      <th>Churn</th>\n",
       "    </tr>\n",
       "  </thead>\n",
       "  <tbody>\n",
       "    <tr>\n",
       "      <th>488</th>\n",
       "      <td>Female</td>\n",
       "      <td>0.0</td>\n",
       "      <td>Yes</td>\n",
       "      <td>Yes</td>\n",
       "      <td>0.0</td>\n",
       "      <td>No</td>\n",
       "      <td>No phone service</td>\n",
       "      <td>DSL</td>\n",
       "      <td>Yes</td>\n",
       "      <td>No</td>\n",
       "      <td>Yes</td>\n",
       "      <td>Yes</td>\n",
       "      <td>Yes</td>\n",
       "      <td>No</td>\n",
       "      <td>Two year</td>\n",
       "      <td>Yes</td>\n",
       "      <td>Bank transfer (automatic)</td>\n",
       "      <td>52.55</td>\n",
       "      <td></td>\n",
       "      <td>No</td>\n",
       "    </tr>\n",
       "    <tr>\n",
       "      <th>753</th>\n",
       "      <td>Male</td>\n",
       "      <td>0.0</td>\n",
       "      <td>No</td>\n",
       "      <td>Yes</td>\n",
       "      <td>0.0</td>\n",
       "      <td>Yes</td>\n",
       "      <td>No</td>\n",
       "      <td>No</td>\n",
       "      <td>No internet service</td>\n",
       "      <td>No internet service</td>\n",
       "      <td>No internet service</td>\n",
       "      <td>No internet service</td>\n",
       "      <td>No internet service</td>\n",
       "      <td>No internet service</td>\n",
       "      <td>Two year</td>\n",
       "      <td>No</td>\n",
       "      <td>Mailed check</td>\n",
       "      <td>20.25</td>\n",
       "      <td></td>\n",
       "      <td>No</td>\n",
       "    </tr>\n",
       "    <tr>\n",
       "      <th>936</th>\n",
       "      <td>Female</td>\n",
       "      <td>0.0</td>\n",
       "      <td>Yes</td>\n",
       "      <td>Yes</td>\n",
       "      <td>0.0</td>\n",
       "      <td>Yes</td>\n",
       "      <td>No</td>\n",
       "      <td>DSL</td>\n",
       "      <td>Yes</td>\n",
       "      <td>Yes</td>\n",
       "      <td>Yes</td>\n",
       "      <td>No</td>\n",
       "      <td>Yes</td>\n",
       "      <td>Yes</td>\n",
       "      <td>Two year</td>\n",
       "      <td>No</td>\n",
       "      <td>Mailed check</td>\n",
       "      <td>80.85</td>\n",
       "      <td></td>\n",
       "      <td>No</td>\n",
       "    </tr>\n",
       "    <tr>\n",
       "      <th>1082</th>\n",
       "      <td>Male</td>\n",
       "      <td>0.0</td>\n",
       "      <td>Yes</td>\n",
       "      <td>Yes</td>\n",
       "      <td>0.0</td>\n",
       "      <td>Yes</td>\n",
       "      <td>Yes</td>\n",
       "      <td>No</td>\n",
       "      <td>No internet service</td>\n",
       "      <td>No internet service</td>\n",
       "      <td>No internet service</td>\n",
       "      <td>No internet service</td>\n",
       "      <td>No internet service</td>\n",
       "      <td>No internet service</td>\n",
       "      <td>Two year</td>\n",
       "      <td>No</td>\n",
       "      <td>Mailed check</td>\n",
       "      <td>25.75</td>\n",
       "      <td></td>\n",
       "      <td>No</td>\n",
       "    </tr>\n",
       "    <tr>\n",
       "      <th>1340</th>\n",
       "      <td>Female</td>\n",
       "      <td>0.0</td>\n",
       "      <td>Yes</td>\n",
       "      <td>Yes</td>\n",
       "      <td>0.0</td>\n",
       "      <td>No</td>\n",
       "      <td>No phone service</td>\n",
       "      <td>DSL</td>\n",
       "      <td>Yes</td>\n",
       "      <td>Yes</td>\n",
       "      <td>Yes</td>\n",
       "      <td>Yes</td>\n",
       "      <td>Yes</td>\n",
       "      <td>No</td>\n",
       "      <td>Two year</td>\n",
       "      <td>No</td>\n",
       "      <td>Credit card (automatic)</td>\n",
       "      <td>56.05</td>\n",
       "      <td></td>\n",
       "      <td>No</td>\n",
       "    </tr>\n",
       "    <tr>\n",
       "      <th>3331</th>\n",
       "      <td>Male</td>\n",
       "      <td>0.0</td>\n",
       "      <td>Yes</td>\n",
       "      <td>Yes</td>\n",
       "      <td>0.0</td>\n",
       "      <td>Yes</td>\n",
       "      <td>No</td>\n",
       "      <td>No</td>\n",
       "      <td>No internet service</td>\n",
       "      <td>No internet service</td>\n",
       "      <td>No internet service</td>\n",
       "      <td>No internet service</td>\n",
       "      <td>No internet service</td>\n",
       "      <td>No internet service</td>\n",
       "      <td>Two year</td>\n",
       "      <td>No</td>\n",
       "      <td>Mailed check</td>\n",
       "      <td>19.85</td>\n",
       "      <td></td>\n",
       "      <td>No</td>\n",
       "    </tr>\n",
       "    <tr>\n",
       "      <th>3826</th>\n",
       "      <td>Male</td>\n",
       "      <td>0.0</td>\n",
       "      <td>Yes</td>\n",
       "      <td>Yes</td>\n",
       "      <td>0.0</td>\n",
       "      <td>Yes</td>\n",
       "      <td>Yes</td>\n",
       "      <td>No</td>\n",
       "      <td>No internet service</td>\n",
       "      <td>No internet service</td>\n",
       "      <td>No internet service</td>\n",
       "      <td>No internet service</td>\n",
       "      <td>No internet service</td>\n",
       "      <td>No internet service</td>\n",
       "      <td>Two year</td>\n",
       "      <td>No</td>\n",
       "      <td>Mailed check</td>\n",
       "      <td>25.35</td>\n",
       "      <td></td>\n",
       "      <td>No</td>\n",
       "    </tr>\n",
       "    <tr>\n",
       "      <th>4380</th>\n",
       "      <td>Female</td>\n",
       "      <td>0.0</td>\n",
       "      <td>Yes</td>\n",
       "      <td>Yes</td>\n",
       "      <td>0.0</td>\n",
       "      <td>Yes</td>\n",
       "      <td>No</td>\n",
       "      <td>No</td>\n",
       "      <td>No internet service</td>\n",
       "      <td>No internet service</td>\n",
       "      <td>No internet service</td>\n",
       "      <td>No internet service</td>\n",
       "      <td>No internet service</td>\n",
       "      <td>No internet service</td>\n",
       "      <td>Two year</td>\n",
       "      <td>No</td>\n",
       "      <td>Mailed check</td>\n",
       "      <td>20.00</td>\n",
       "      <td></td>\n",
       "      <td>No</td>\n",
       "    </tr>\n",
       "  </tbody>\n",
       "</table>\n",
       "</div>"
      ],
      "text/plain": [
       "      gender  SeniorCitizen Partner Dependents  tenure PhoneService  \\\n",
       "488   Female            0.0     Yes        Yes     0.0           No   \n",
       "753     Male            0.0      No        Yes     0.0          Yes   \n",
       "936   Female            0.0     Yes        Yes     0.0          Yes   \n",
       "1082    Male            0.0     Yes        Yes     0.0          Yes   \n",
       "1340  Female            0.0     Yes        Yes     0.0           No   \n",
       "3331    Male            0.0     Yes        Yes     0.0          Yes   \n",
       "3826    Male            0.0     Yes        Yes     0.0          Yes   \n",
       "4380  Female            0.0     Yes        Yes     0.0          Yes   \n",
       "\n",
       "         MultipleLines InternetService       OnlineSecurity  \\\n",
       "488   No phone service             DSL                  Yes   \n",
       "753                 No              No  No internet service   \n",
       "936                 No             DSL                  Yes   \n",
       "1082               Yes              No  No internet service   \n",
       "1340  No phone service             DSL                  Yes   \n",
       "3331                No              No  No internet service   \n",
       "3826               Yes              No  No internet service   \n",
       "4380                No              No  No internet service   \n",
       "\n",
       "             OnlineBackup     DeviceProtection          TechSupport  \\\n",
       "488                    No                  Yes                  Yes   \n",
       "753   No internet service  No internet service  No internet service   \n",
       "936                   Yes                  Yes                   No   \n",
       "1082  No internet service  No internet service  No internet service   \n",
       "1340                  Yes                  Yes                  Yes   \n",
       "3331  No internet service  No internet service  No internet service   \n",
       "3826  No internet service  No internet service  No internet service   \n",
       "4380  No internet service  No internet service  No internet service   \n",
       "\n",
       "              StreamingTV      StreamingMovies  Contract PaperlessBilling  \\\n",
       "488                   Yes                   No  Two year              Yes   \n",
       "753   No internet service  No internet service  Two year               No   \n",
       "936                   Yes                  Yes  Two year               No   \n",
       "1082  No internet service  No internet service  Two year               No   \n",
       "1340                  Yes                   No  Two year               No   \n",
       "3331  No internet service  No internet service  Two year               No   \n",
       "3826  No internet service  No internet service  Two year               No   \n",
       "4380  No internet service  No internet service  Two year               No   \n",
       "\n",
       "                  PaymentMethod  MonthlyCharges TotalCharges Churn  \n",
       "488   Bank transfer (automatic)           52.55                 No  \n",
       "753                Mailed check           20.25                 No  \n",
       "936                Mailed check           80.85                 No  \n",
       "1082               Mailed check           25.75                 No  \n",
       "1340    Credit card (automatic)           56.05                 No  \n",
       "3331               Mailed check           19.85                 No  \n",
       "3826               Mailed check           25.35                 No  \n",
       "4380               Mailed check           20.00                 No  "
      ]
     },
     "execution_count": 665,
     "metadata": {},
     "output_type": "execute_result"
    }
   ],
   "source": [
    "df.loc[df['TotalCharges']==\" \"]"
   ]
  },
  {
   "cell_type": "code",
   "execution_count": 666,
   "id": "ed05901b",
   "metadata": {},
   "outputs": [],
   "source": [
    "df['TotalCharges']=df['TotalCharges'].replace(\" \",np.nan)"
   ]
  },
  {
   "cell_type": "code",
   "execution_count": 667,
   "id": "ef7e669d",
   "metadata": {},
   "outputs": [],
   "source": [
    " # converting the column datatype from object to float\n",
    "df[\"TotalCharges\"]=df[\"TotalCharges\"].astype(float)"
   ]
  },
  {
   "cell_type": "code",
   "execution_count": 668,
   "id": "d3b4de28",
   "metadata": {},
   "outputs": [
    {
     "data": {
      "text/plain": [
       "dtype('float64')"
      ]
     },
     "execution_count": 668,
     "metadata": {},
     "output_type": "execute_result"
    }
   ],
   "source": [
    "df['TotalCharges'].dtypes"
   ]
  },
  {
   "cell_type": "markdown",
   "id": "dbd7c36a",
   "metadata": {},
   "source": [
    "Now we can see total charges columns has some space values which is replaced by nan values Now we can handle the nan values\n",
    "\n",
    "Handling the nan values and replacing it with the mean of the column.As the column is continous in nature"
   ]
  },
  {
   "cell_type": "markdown",
   "id": "c5a4b97b",
   "metadata": {},
   "source": [
    "# Checking Missing / Null values in the dataset"
   ]
  },
  {
   "cell_type": "code",
   "execution_count": 669,
   "id": "40169c0a",
   "metadata": {
    "scrolled": true
   },
   "outputs": [
    {
     "data": {
      "text/plain": [
       "gender              1\n",
       "SeniorCitizen       1\n",
       "Partner             1\n",
       "Dependents          1\n",
       "tenure              1\n",
       "PhoneService        1\n",
       "MultipleLines       1\n",
       "InternetService     1\n",
       "OnlineSecurity      1\n",
       "OnlineBackup        1\n",
       "DeviceProtection    1\n",
       "TechSupport         1\n",
       "StreamingTV         1\n",
       "StreamingMovies     1\n",
       "Contract            1\n",
       "PaperlessBilling    1\n",
       "PaymentMethod       1\n",
       "MonthlyCharges      1\n",
       "TotalCharges        9\n",
       "Churn               1\n",
       "dtype: int64"
      ]
     },
     "execution_count": 669,
     "metadata": {},
     "output_type": "execute_result"
    }
   ],
   "source": [
    "#lets check for null values\n",
    "df.isnull().sum()"
   ]
  },
  {
   "cell_type": "code",
   "execution_count": 670,
   "id": "53ba0785",
   "metadata": {
    "scrolled": true
   },
   "outputs": [
    {
     "data": {
      "text/plain": [
       "28"
      ]
     },
     "execution_count": 670,
     "metadata": {},
     "output_type": "execute_result"
    }
   ],
   "source": [
    "df.isnull().sum().sum()"
   ]
  },
  {
   "cell_type": "markdown",
   "id": "4a06e0d8",
   "metadata": {},
   "source": [
    "There are null values present in the dataset."
   ]
  },
  {
   "cell_type": "code",
   "execution_count": 671,
   "id": "587806a7",
   "metadata": {
    "scrolled": true
   },
   "outputs": [
    {
     "data": {
      "text/plain": [
       "<AxesSubplot:>"
      ]
     },
     "execution_count": 671,
     "metadata": {},
     "output_type": "execute_result"
    },
    {
     "data": {
      "image/png": "[encoded data removed]",
      "text/plain": [
       "<Figure size 432x288 with 2 Axes>"
      ]
     },
     "metadata": {
      "needs_background": "light"
     },
     "output_type": "display_data"
    }
   ],
   "source": [
    "sns.heatmap(df.isnull())"
   ]
  },
  {
   "cell_type": "markdown",
   "id": "a954887e",
   "metadata": {},
   "source": [
    "# Filling Categorical Columns missing values with mode"
   ]
  },
  {
   "cell_type": "code",
   "execution_count": 672,
   "id": "d8e420ca",
   "metadata": {
    "scrolled": true
   },
   "outputs": [
    {
     "data": {
      "text/plain": [
       "gender              object\n",
       "Partner             object\n",
       "Dependents          object\n",
       "PhoneService        object\n",
       "MultipleLines       object\n",
       "InternetService     object\n",
       "OnlineSecurity      object\n",
       "OnlineBackup        object\n",
       "DeviceProtection    object\n",
       "TechSupport         object\n",
       "StreamingTV         object\n",
       "StreamingMovies     object\n",
       "Contract            object\n",
       "PaperlessBilling    object\n",
       "PaymentMethod       object\n",
       "Churn               object\n",
       "dtype: object"
      ]
     },
     "execution_count": 672,
     "metadata": {},
     "output_type": "execute_result"
    }
   ],
   "source": [
    "df.dtypes[df.dtypes == 'object'] #Identifying the Categorical Columns"
   ]
  },
  {
   "cell_type": "markdown",
   "id": "e473e350",
   "metadata": {},
   "source": [
    "# 'Churn' vs Categorical Data Columns"
   ]
  },
  {
   "cell_type": "code",
   "execution_count": 673,
   "id": "39e86149",
   "metadata": {},
   "outputs": [],
   "source": [
    "df['gender'].fillna(df['gender'].mode()[0],inplace=True)\n",
    "df['Partner'].fillna(df['Partner'].mode()[0],inplace=True)\n",
    "df['Dependents'].fillna(df['Dependents'].mode()[0],inplace=True)\n",
    "df['PhoneService'].fillna(df['PhoneService'].mode()[0],inplace=True)\n",
    "df['MultipleLines'].fillna(df['MultipleLines'].mode()[0],inplace=True)\n",
    "df['InternetService'].fillna(df['InternetService'].mode()[0],inplace=True)\n",
    "df['OnlineSecurity'].fillna(df['OnlineSecurity'].mode()[0],inplace=True)\n",
    "df['OnlineBackup'].fillna(df['OnlineBackup'].mode()[0],inplace=True)\n",
    "df['DeviceProtection'].fillna(df['DeviceProtection'].mode()[0],inplace=True)\n",
    "df['TechSupport'].fillna(df['TechSupport'].mode()[0],inplace=True)\n",
    "df['StreamingTV'].fillna(df['StreamingTV'].mode()[0],inplace=True)\n",
    "df['StreamingMovies'].fillna(df['StreamingMovies'].mode()[0],inplace=True)\n",
    "df['Contract'].fillna(df['Contract'].mode()[0],inplace=True)\n",
    "df['PaperlessBilling'].fillna(df['PaperlessBilling'].mode()[0],inplace=True)\n",
    "df['PaymentMethod'].fillna(df['PaymentMethod'].mode()[0],inplace=True)\n",
    "df['Churn'].fillna(df['Churn'].mode()[0],inplace=True)"
   ]
  },
  {
   "cell_type": "markdown",
   "id": "bb24215c",
   "metadata": {},
   "source": [
    "# Filling Continuous Columns missing values with mean"
   ]
  },
  {
   "cell_type": "code",
   "execution_count": 674,
   "id": "1112ae13",
   "metadata": {},
   "outputs": [
    {
     "data": {
      "text/plain": [
       "SeniorCitizen     float64\n",
       "tenure            float64\n",
       "MonthlyCharges    float64\n",
       "TotalCharges      float64\n",
       "dtype: object"
      ]
     },
     "execution_count": 674,
     "metadata": {},
     "output_type": "execute_result"
    }
   ],
   "source": [
    "df.dtypes[df.dtypes=='float64']"
   ]
  },
  {
   "cell_type": "code",
   "execution_count": 675,
   "id": "079d9854",
   "metadata": {},
   "outputs": [],
   "source": [
    "df['tenure'] = df['tenure'].fillna(df['tenure'].mean())\n",
    "df['MonthlyCharges'] = df['MonthlyCharges'].fillna(df['MonthlyCharges'].mean())\n",
    "df['TotalCharges'] = df['TotalCharges'].fillna(df['TotalCharges'].mean())\n",
    "df['SeniorCitizen'] = df['SeniorCitizen'].fillna(df['SeniorCitizen'].median())"
   ]
  },
  {
   "cell_type": "markdown",
   "id": "a97bc147",
   "metadata": {},
   "source": [
    "# Checking null values again"
   ]
  },
  {
   "cell_type": "code",
   "execution_count": 676,
   "id": "c971c40d",
   "metadata": {},
   "outputs": [
    {
     "data": {
      "text/plain": [
       "gender              0\n",
       "SeniorCitizen       0\n",
       "Partner             0\n",
       "Dependents          0\n",
       "tenure              0\n",
       "PhoneService        0\n",
       "MultipleLines       0\n",
       "InternetService     0\n",
       "OnlineSecurity      0\n",
       "OnlineBackup        0\n",
       "DeviceProtection    0\n",
       "TechSupport         0\n",
       "StreamingTV         0\n",
       "StreamingMovies     0\n",
       "Contract            0\n",
       "PaperlessBilling    0\n",
       "PaymentMethod       0\n",
       "MonthlyCharges      0\n",
       "TotalCharges        0\n",
       "Churn               0\n",
       "dtype: int64"
      ]
     },
     "execution_count": 676,
     "metadata": {},
     "output_type": "execute_result"
    }
   ],
   "source": [
    "df.isnull().sum()"
   ]
  },
  {
   "cell_type": "markdown",
   "id": "4302641e",
   "metadata": {},
   "source": [
    "All the null values have been replaced now"
   ]
  },
  {
   "cell_type": "code",
   "execution_count": 677,
   "id": "056ba2d8",
   "metadata": {
    "scrolled": true
   },
   "outputs": [
    {
     "name": "stdout",
     "output_type": "stream",
     "text": [
      "gender 2\n",
      "Partner 2\n",
      "Dependents 2\n",
      "PhoneService 2\n",
      "MultipleLines 3\n",
      "InternetService 3\n",
      "OnlineSecurity 3\n",
      "OnlineBackup 3\n",
      "DeviceProtection 3\n",
      "TechSupport 3\n",
      "StreamingTV 3\n",
      "StreamingMovies 3\n",
      "Contract 3\n",
      "PaperlessBilling 2\n",
      "PaymentMethod 4\n",
      "Churn 2\n"
     ]
    }
   ],
   "source": [
    "#lets print out the columns with unique values\n",
    "for i in df.columns:\n",
    "    if df[i].dtype == 'object':\n",
    "        print(i,len(pd.unique(df[i])))"
   ]
  },
  {
   "cell_type": "markdown",
   "id": "466f4aba",
   "metadata": {},
   "source": [
    "# Statistical Summary"
   ]
  },
  {
   "cell_type": "code",
   "execution_count": 678,
   "id": "722056ab",
   "metadata": {
    "scrolled": true
   },
   "outputs": [
    {
     "data": {
      "text/html": [
       "<div>\n",
       "<style scoped>\n",
       "    .dataframe tbody tr th:only-of-type {\n",
       "        vertical-align: middle;\n",
       "    }\n",
       "\n",
       "    .dataframe tbody tr th {\n",
       "        vertical-align: top;\n",
       "    }\n",
       "\n",
       "    .dataframe thead th {\n",
       "        text-align: right;\n",
       "    }\n",
       "</style>\n",
       "<table border=\"1\" class=\"dataframe\">\n",
       "  <thead>\n",
       "    <tr style=\"text-align: right;\">\n",
       "      <th></th>\n",
       "      <th>count</th>\n",
       "      <th>mean</th>\n",
       "      <th>std</th>\n",
       "      <th>min</th>\n",
       "      <th>25%</th>\n",
       "      <th>50%</th>\n",
       "      <th>75%</th>\n",
       "      <th>max</th>\n",
       "    </tr>\n",
       "  </thead>\n",
       "  <tbody>\n",
       "    <tr>\n",
       "      <th>SeniorCitizen</th>\n",
       "      <td>5098.0</td>\n",
       "      <td>0.159474</td>\n",
       "      <td>0.366154</td>\n",
       "      <td>0.00</td>\n",
       "      <td>0.00</td>\n",
       "      <td>0.000</td>\n",
       "      <td>0.0000</td>\n",
       "      <td>1.00</td>\n",
       "    </tr>\n",
       "    <tr>\n",
       "      <th>tenure</th>\n",
       "      <td>5098.0</td>\n",
       "      <td>32.237591</td>\n",
       "      <td>24.604389</td>\n",
       "      <td>0.00</td>\n",
       "      <td>9.00</td>\n",
       "      <td>28.000</td>\n",
       "      <td>55.0000</td>\n",
       "      <td>72.00</td>\n",
       "    </tr>\n",
       "    <tr>\n",
       "      <th>MonthlyCharges</th>\n",
       "      <td>5098.0</td>\n",
       "      <td>64.726476</td>\n",
       "      <td>30.155178</td>\n",
       "      <td>18.25</td>\n",
       "      <td>35.40</td>\n",
       "      <td>70.375</td>\n",
       "      <td>89.9500</td>\n",
       "      <td>118.75</td>\n",
       "    </tr>\n",
       "    <tr>\n",
       "      <th>TotalCharges</th>\n",
       "      <td>5098.0</td>\n",
       "      <td>2271.073521</td>\n",
       "      <td>2263.899757</td>\n",
       "      <td>18.80</td>\n",
       "      <td>389.95</td>\n",
       "      <td>1397.950</td>\n",
       "      <td>3723.2125</td>\n",
       "      <td>8684.80</td>\n",
       "    </tr>\n",
       "  </tbody>\n",
       "</table>\n",
       "</div>"
      ],
      "text/plain": [
       "                 count         mean          std    min     25%       50%  \\\n",
       "SeniorCitizen   5098.0     0.159474     0.366154   0.00    0.00     0.000   \n",
       "tenure          5098.0    32.237591    24.604389   0.00    9.00    28.000   \n",
       "MonthlyCharges  5098.0    64.726476    30.155178  18.25   35.40    70.375   \n",
       "TotalCharges    5098.0  2271.073521  2263.899757  18.80  389.95  1397.950   \n",
       "\n",
       "                      75%      max  \n",
       "SeniorCitizen      0.0000     1.00  \n",
       "tenure            55.0000    72.00  \n",
       "MonthlyCharges    89.9500   118.75  \n",
       "TotalCharges    3723.2125  8684.80  "
      ]
     },
     "execution_count": 678,
     "metadata": {},
     "output_type": "execute_result"
    }
   ],
   "source": [
    "df.describe().T"
   ]
  },
  {
   "cell_type": "markdown",
   "id": "37f69052",
   "metadata": {},
   "source": [
    "# Exploratory Data Analysis (EDA)"
   ]
  },
  {
   "cell_type": "code",
   "execution_count": 679,
   "id": "a6d9ea50",
   "metadata": {},
   "outputs": [
    {
     "name": "stdout",
     "output_type": "stream",
     "text": [
      "No     3761\n",
      "Yes    1337\n",
      "Name: Churn, dtype: int64\n"
     ]
    },
    {
     "data": {
      "image/png": "[encoded data removed]",
      "text/plain": [
       "<Figure size 576x288 with 1 Axes>"
      ]
     },
     "metadata": {
      "needs_background": "light"
     },
     "output_type": "display_data"
    }
   ],
   "source": [
    "print(df['Churn'].value_counts())\n",
    "\n",
    "plt.figure(figsize = [8,4])\n",
    "sns.countplot(df['Churn'])\n",
    "plt.show()"
   ]
  },
  {
   "cell_type": "code",
   "execution_count": 680,
   "id": "b90af386",
   "metadata": {},
   "outputs": [
    {
     "name": "stdout",
     "output_type": "stream",
     "text": [
      "0.0    4285\n",
      "1.0     813\n",
      "Name: SeniorCitizen, dtype: int64\n"
     ]
    },
    {
     "data": {
      "image/png": "[encoded data removed]",
      "text/plain": [
       "<Figure size 576x288 with 1 Axes>"
      ]
     },
     "metadata": {
      "needs_background": "light"
     },
     "output_type": "display_data"
    }
   ],
   "source": [
    "print(df['SeniorCitizen'].value_counts())\n",
    "\n",
    "plt.figure(figsize = [8,4])\n",
    "sns.countplot(df['SeniorCitizen'])\n",
    "plt.show()"
   ]
  },
  {
   "cell_type": "code",
   "execution_count": 681,
   "id": "ea346cf7",
   "metadata": {},
   "outputs": [
    {
     "name": "stdout",
     "output_type": "stream",
     "text": [
      "Male      2578\n",
      "Female    2520\n",
      "Name: gender, dtype: int64\n"
     ]
    },
    {
     "data": {
      "image/png": "[encoded data removed]",
      "text/plain": [
       "<Figure size 432x288 with 1 Axes>"
      ]
     },
     "metadata": {
      "needs_background": "light"
     },
     "output_type": "display_data"
    }
   ],
   "source": [
    "#Using countplot for nominal data\n",
    "sns.countplot(x='gender', data=df)\n",
    "print(df['gender'].value_counts())"
   ]
  },
  {
   "cell_type": "markdown",
   "id": "ff2aa32f",
   "metadata": {},
   "source": [
    "The number of Male and Female customers are almsot equal"
   ]
  },
  {
   "cell_type": "code",
   "execution_count": 682,
   "id": "ae6a9d8b",
   "metadata": {},
   "outputs": [
    {
     "name": "stdout",
     "output_type": "stream",
     "text": [
      "No     2642\n",
      "Yes    2456\n",
      "Name: Partner, dtype: int64\n"
     ]
    },
    {
     "data": {
      "image/png": "[encoded data removed]",
      "text/plain": [
       "<Figure size 432x288 with 1 Axes>"
      ]
     },
     "metadata": {
      "needs_background": "light"
     },
     "output_type": "display_data"
    }
   ],
   "source": [
    "#Using countplot for nominal data\n",
    "sns.countplot(x='Partner', data=df)\n",
    "print(df['Partner'].value_counts())"
   ]
  },
  {
   "cell_type": "code",
   "execution_count": 683,
   "id": "a7283756",
   "metadata": {
    "scrolled": true
   },
   "outputs": [
    {
     "name": "stdout",
     "output_type": "stream",
     "text": [
      "No     3587\n",
      "Yes    1511\n",
      "Name: Dependents, dtype: int64\n"
     ]
    },
    {
     "data": {
      "image/png": "[encoded data removed]",
      "text/plain": [
       "<Figure size 432x288 with 1 Axes>"
      ]
     },
     "metadata": {
      "needs_background": "light"
     },
     "output_type": "display_data"
    }
   ],
   "source": [
    "#Using countplot for nominal data\n",
    "sns.countplot(x='Dependents', data=df)\n",
    "print(df['Dependents'].value_counts())"
   ]
  },
  {
   "cell_type": "code",
   "execution_count": 684,
   "id": "36534320",
   "metadata": {},
   "outputs": [
    {
     "name": "stdout",
     "output_type": "stream",
     "text": [
      "Yes    4624\n",
      "No      474\n",
      "Name: PhoneService, dtype: int64\n"
     ]
    },
    {
     "data": {
      "image/png": "[encoded data removed]",
      "text/plain": [
       "<Figure size 432x288 with 1 Axes>"
      ]
     },
     "metadata": {
      "needs_background": "light"
     },
     "output_type": "display_data"
    }
   ],
   "source": [
    "#Using countplot for nominal data\n",
    "sns.countplot(x='PhoneService', data=df)\n",
    "print(df['PhoneService'].value_counts())"
   ]
  },
  {
   "cell_type": "code",
   "execution_count": 685,
   "id": "82a1c4c8",
   "metadata": {},
   "outputs": [
    {
     "data": {
      "image/png": "[encoded data removed]",
      "text/plain": [
       "<Figure size 1440x1512 with 15 Axes>"
      ]
     },
     "metadata": {},
     "output_type": "display_data"
    }
   ],
   "source": [
    "plt.figure(figsize=(20,21),facecolor='white')\n",
    "plotnum=1\n",
    "X = df[['gender','Partner','Dependents','PhoneService','MultipleLines','InternetService','OnlineSecurity','OnlineBackup','DeviceProtection','TechSupport','StreamingTV','StreamingMovies','Contract','PaperlessBilling','PaymentMethod']]\n",
    "y = df['Churn']\n",
    "for col in X:\n",
    "    if plotnum<=23:\n",
    "        plt.subplot(5,4,plotnum)\n",
    "        sns.countplot(X[col],hue =y)\n",
    "        plt.xlabel(col,fontsize=20)\n",
    "        plt.ylabel('Count',fontsize=20)\n",
    "    plotnum+=1\n",
    "plt.tight_layout()"
   ]
  },
  {
   "cell_type": "code",
   "execution_count": 686,
   "id": "c78b85cd",
   "metadata": {},
   "outputs": [
    {
     "data": {
      "text/plain": [
       "SeniorCitizen     float64\n",
       "tenure            float64\n",
       "MonthlyCharges    float64\n",
       "TotalCharges      float64\n",
       "dtype: object"
      ]
     },
     "execution_count": 686,
     "metadata": {},
     "output_type": "execute_result"
    }
   ],
   "source": [
    "df.dtypes[df.dtypes=='float64']"
   ]
  },
  {
   "cell_type": "code",
   "execution_count": 687,
   "id": "9008bcd4",
   "metadata": {},
   "outputs": [
    {
     "data": {
      "image/png": "[encoded data removed]",
      "text/plain": [
       "<Figure size 1440x1800 with 4 Axes>"
      ]
     },
     "metadata": {},
     "output_type": "display_data"
    }
   ],
   "source": [
    "plt.figure(figsize=(20,25),facecolor='white')\n",
    "plotnum=1\n",
    "y = df['Churn']\n",
    "X = df[['SeniorCitizen','tenure','MonthlyCharges','TotalCharges']]\n",
    "for col in X:\n",
    "    if plotnum<=15:\n",
    "        plt.subplot(5,5,plotnum)\n",
    "        sns.barplot(y,X[col])\n",
    "        plt.xlabel('Churn',fontsize=20)\n",
    "        plt.ylabel(col,fontsize=20)\n",
    "    plotnum+=1\n",
    "plt.tight_layout()"
   ]
  },
  {
   "cell_type": "code",
   "execution_count": 688,
   "id": "492bf194",
   "metadata": {},
   "outputs": [
    {
     "data": {
      "text/plain": [
       "<seaborn.axisgrid.FacetGrid at 0x256b42fdf70>"
      ]
     },
     "execution_count": 688,
     "metadata": {},
     "output_type": "execute_result"
    },
    {
     "data": {
      "image/png": "[encoded data removed]",
      "text/plain": [
       "<Figure size 360x360 with 1 Axes>"
      ]
     },
     "metadata": {
      "needs_background": "light"
     },
     "output_type": "display_data"
    }
   ],
   "source": [
    "sns.catplot(x=\"SeniorCitizen\",y='tenure',data=df)"
   ]
  },
  {
   "cell_type": "code",
   "execution_count": 689,
   "id": "3ee111d3",
   "metadata": {},
   "outputs": [],
   "source": [
    "x = df.drop(columns = ['Churn'])\n",
    "y = df['Churn']"
   ]
  },
  {
   "cell_type": "code",
   "execution_count": 690,
   "id": "7c6f0004",
   "metadata": {
    "scrolled": true
   },
   "outputs": [
    {
     "data": {
      "text/plain": [
       "SeniorCitizen     float64\n",
       "tenure            float64\n",
       "MonthlyCharges    float64\n",
       "TotalCharges      float64\n",
       "dtype: object"
      ]
     },
     "execution_count": 690,
     "metadata": {},
     "output_type": "execute_result"
    }
   ],
   "source": [
    "df.dtypes[df.dtypes=='float64']"
   ]
  },
  {
   "cell_type": "markdown",
   "id": "0e4053d8",
   "metadata": {},
   "source": [
    "# Checking Outliers"
   ]
  },
  {
   "cell_type": "code",
   "execution_count": 691,
   "id": "7095852f",
   "metadata": {},
   "outputs": [
    {
     "data": {
      "image/png": "[encoded data removed]",
      "text/plain": [
       "<Figure size 1440x1800 with 3 Axes>"
      ]
     },
     "metadata": {},
     "output_type": "display_data"
    }
   ],
   "source": [
    "plt.figure(figsize=(20,25),facecolor='white')\n",
    "plotnum=1\n",
    "for col in X[['MonthlyCharges','TotalCharges','tenure']]:\n",
    "    if plotnum<=16:\n",
    "        plt.subplot(4,4,plotnum)\n",
    "        sns.boxplot(X[col])\n",
    "        plt.xlabel(col,fontsize=20)\n",
    "    plotnum+=1\n",
    "plt.show()"
   ]
  },
  {
   "cell_type": "markdown",
   "id": "a47faf0f",
   "metadata": {},
   "source": [
    "There are no outliers present in the dataset"
   ]
  },
  {
   "cell_type": "markdown",
   "id": "4eac7882",
   "metadata": {},
   "source": [
    "# Encoding the categorical Feature Columns"
   ]
  },
  {
   "cell_type": "code",
   "execution_count": 692,
   "id": "a15d5d70",
   "metadata": {},
   "outputs": [],
   "source": [
    "from sklearn.preprocessing import OrdinalEncoder\n",
    "enc=OrdinalEncoder()"
   ]
  },
  {
   "cell_type": "code",
   "execution_count": 693,
   "id": "198360da",
   "metadata": {},
   "outputs": [],
   "source": [
    "for i in df.columns:\n",
    "    if df[i].dtypes==\"object\":\n",
    "        df[i]=enc.fit_transform(df[i].values.reshape(-1,1))"
   ]
  },
  {
   "cell_type": "code",
   "execution_count": 694,
   "id": "a7678fcc",
   "metadata": {},
   "outputs": [
    {
     "data": {
      "text/plain": [
       "gender              float64\n",
       "SeniorCitizen       float64\n",
       "Partner             float64\n",
       "Dependents          float64\n",
       "tenure              float64\n",
       "PhoneService        float64\n",
       "MultipleLines       float64\n",
       "InternetService     float64\n",
       "OnlineSecurity      float64\n",
       "OnlineBackup        float64\n",
       "DeviceProtection    float64\n",
       "TechSupport         float64\n",
       "StreamingTV         float64\n",
       "StreamingMovies     float64\n",
       "Contract            float64\n",
       "PaperlessBilling    float64\n",
       "PaymentMethod       float64\n",
       "MonthlyCharges      float64\n",
       "TotalCharges        float64\n",
       "Churn               float64\n",
       "dtype: object"
      ]
     },
     "execution_count": 694,
     "metadata": {},
     "output_type": "execute_result"
    }
   ],
   "source": [
    "df.dtypes"
   ]
  },
  {
   "cell_type": "code",
   "execution_count": 695,
   "id": "c5df74e5",
   "metadata": {
    "scrolled": true
   },
   "outputs": [
    {
     "data": {
      "text/html": [
       "<div>\n",
       "<style scoped>\n",
       "    .dataframe tbody tr th:only-of-type {\n",
       "        vertical-align: middle;\n",
       "    }\n",
       "\n",
       "    .dataframe tbody tr th {\n",
       "        vertical-align: top;\n",
       "    }\n",
       "\n",
       "    .dataframe thead th {\n",
       "        text-align: right;\n",
       "    }\n",
       "</style>\n",
       "<table border=\"1\" class=\"dataframe\">\n",
       "  <thead>\n",
       "    <tr style=\"text-align: right;\">\n",
       "      <th></th>\n",
       "      <th>gender</th>\n",
       "      <th>SeniorCitizen</th>\n",
       "      <th>Partner</th>\n",
       "      <th>Dependents</th>\n",
       "      <th>tenure</th>\n",
       "      <th>PhoneService</th>\n",
       "      <th>MultipleLines</th>\n",
       "      <th>InternetService</th>\n",
       "      <th>OnlineSecurity</th>\n",
       "      <th>OnlineBackup</th>\n",
       "      <th>DeviceProtection</th>\n",
       "      <th>TechSupport</th>\n",
       "      <th>StreamingTV</th>\n",
       "      <th>StreamingMovies</th>\n",
       "      <th>Contract</th>\n",
       "      <th>PaperlessBilling</th>\n",
       "      <th>PaymentMethod</th>\n",
       "      <th>MonthlyCharges</th>\n",
       "      <th>TotalCharges</th>\n",
       "      <th>Churn</th>\n",
       "    </tr>\n",
       "  </thead>\n",
       "  <tbody>\n",
       "    <tr>\n",
       "      <th>0</th>\n",
       "      <td>0.0</td>\n",
       "      <td>0.0</td>\n",
       "      <td>1.0</td>\n",
       "      <td>0.0</td>\n",
       "      <td>1.0</td>\n",
       "      <td>0.0</td>\n",
       "      <td>1.0</td>\n",
       "      <td>0.0</td>\n",
       "      <td>0.0</td>\n",
       "      <td>2.0</td>\n",
       "      <td>0.0</td>\n",
       "      <td>0.0</td>\n",
       "      <td>0.0</td>\n",
       "      <td>0.0</td>\n",
       "      <td>0.0</td>\n",
       "      <td>1.0</td>\n",
       "      <td>2.0</td>\n",
       "      <td>29.85</td>\n",
       "      <td>29.85</td>\n",
       "      <td>0.0</td>\n",
       "    </tr>\n",
       "    <tr>\n",
       "      <th>1</th>\n",
       "      <td>1.0</td>\n",
       "      <td>0.0</td>\n",
       "      <td>0.0</td>\n",
       "      <td>0.0</td>\n",
       "      <td>34.0</td>\n",
       "      <td>1.0</td>\n",
       "      <td>0.0</td>\n",
       "      <td>0.0</td>\n",
       "      <td>2.0</td>\n",
       "      <td>0.0</td>\n",
       "      <td>2.0</td>\n",
       "      <td>0.0</td>\n",
       "      <td>0.0</td>\n",
       "      <td>0.0</td>\n",
       "      <td>1.0</td>\n",
       "      <td>0.0</td>\n",
       "      <td>3.0</td>\n",
       "      <td>56.95</td>\n",
       "      <td>1889.50</td>\n",
       "      <td>0.0</td>\n",
       "    </tr>\n",
       "    <tr>\n",
       "      <th>2</th>\n",
       "      <td>1.0</td>\n",
       "      <td>0.0</td>\n",
       "      <td>0.0</td>\n",
       "      <td>0.0</td>\n",
       "      <td>2.0</td>\n",
       "      <td>1.0</td>\n",
       "      <td>0.0</td>\n",
       "      <td>0.0</td>\n",
       "      <td>2.0</td>\n",
       "      <td>2.0</td>\n",
       "      <td>0.0</td>\n",
       "      <td>0.0</td>\n",
       "      <td>0.0</td>\n",
       "      <td>0.0</td>\n",
       "      <td>0.0</td>\n",
       "      <td>1.0</td>\n",
       "      <td>3.0</td>\n",
       "      <td>53.85</td>\n",
       "      <td>108.15</td>\n",
       "      <td>1.0</td>\n",
       "    </tr>\n",
       "    <tr>\n",
       "      <th>3</th>\n",
       "      <td>1.0</td>\n",
       "      <td>0.0</td>\n",
       "      <td>0.0</td>\n",
       "      <td>0.0</td>\n",
       "      <td>45.0</td>\n",
       "      <td>0.0</td>\n",
       "      <td>1.0</td>\n",
       "      <td>0.0</td>\n",
       "      <td>2.0</td>\n",
       "      <td>0.0</td>\n",
       "      <td>2.0</td>\n",
       "      <td>2.0</td>\n",
       "      <td>0.0</td>\n",
       "      <td>0.0</td>\n",
       "      <td>1.0</td>\n",
       "      <td>0.0</td>\n",
       "      <td>0.0</td>\n",
       "      <td>42.30</td>\n",
       "      <td>1840.75</td>\n",
       "      <td>0.0</td>\n",
       "    </tr>\n",
       "    <tr>\n",
       "      <th>4</th>\n",
       "      <td>0.0</td>\n",
       "      <td>0.0</td>\n",
       "      <td>0.0</td>\n",
       "      <td>0.0</td>\n",
       "      <td>2.0</td>\n",
       "      <td>1.0</td>\n",
       "      <td>0.0</td>\n",
       "      <td>1.0</td>\n",
       "      <td>0.0</td>\n",
       "      <td>0.0</td>\n",
       "      <td>0.0</td>\n",
       "      <td>0.0</td>\n",
       "      <td>0.0</td>\n",
       "      <td>0.0</td>\n",
       "      <td>0.0</td>\n",
       "      <td>1.0</td>\n",
       "      <td>2.0</td>\n",
       "      <td>70.70</td>\n",
       "      <td>151.65</td>\n",
       "      <td>1.0</td>\n",
       "    </tr>\n",
       "  </tbody>\n",
       "</table>\n",
       "</div>"
      ],
      "text/plain": [
       "   gender  SeniorCitizen  Partner  Dependents  tenure  PhoneService  \\\n",
       "0     0.0            0.0      1.0         0.0     1.0           0.0   \n",
       "1     1.0            0.0      0.0         0.0    34.0           1.0   \n",
       "2     1.0            0.0      0.0         0.0     2.0           1.0   \n",
       "3     1.0            0.0      0.0         0.0    45.0           0.0   \n",
       "4     0.0            0.0      0.0         0.0     2.0           1.0   \n",
       "\n",
       "   MultipleLines  InternetService  OnlineSecurity  OnlineBackup  \\\n",
       "0            1.0              0.0             0.0           2.0   \n",
       "1            0.0              0.0             2.0           0.0   \n",
       "2            0.0              0.0             2.0           2.0   \n",
       "3            1.0              0.0             2.0           0.0   \n",
       "4            0.0              1.0             0.0           0.0   \n",
       "\n",
       "   DeviceProtection  TechSupport  StreamingTV  StreamingMovies  Contract  \\\n",
       "0               0.0          0.0          0.0              0.0       0.0   \n",
       "1               2.0          0.0          0.0              0.0       1.0   \n",
       "2               0.0          0.0          0.0              0.0       0.0   \n",
       "3               2.0          2.0          0.0              0.0       1.0   \n",
       "4               0.0          0.0          0.0              0.0       0.0   \n",
       "\n",
       "   PaperlessBilling  PaymentMethod  MonthlyCharges  TotalCharges  Churn  \n",
       "0               1.0            2.0           29.85         29.85    0.0  \n",
       "1               0.0            3.0           56.95       1889.50    0.0  \n",
       "2               1.0            3.0           53.85        108.15    1.0  \n",
       "3               0.0            0.0           42.30       1840.75    0.0  \n",
       "4               1.0            2.0           70.70        151.65    1.0  "
      ]
     },
     "execution_count": 695,
     "metadata": {},
     "output_type": "execute_result"
    }
   ],
   "source": [
    "df.head()"
   ]
  },
  {
   "cell_type": "code",
   "execution_count": 696,
   "id": "017199f6",
   "metadata": {},
   "outputs": [
    {
     "data": {
      "text/plain": [
       "array([0., 1.])"
      ]
     },
     "execution_count": 696,
     "metadata": {},
     "output_type": "execute_result"
    }
   ],
   "source": [
    "df['Churn'].unique()"
   ]
  },
  {
   "cell_type": "markdown",
   "id": "587bf0f1",
   "metadata": {},
   "source": [
    "# describe the dataset"
   ]
  },
  {
   "cell_type": "code",
   "execution_count": 697,
   "id": "72554cfa",
   "metadata": {},
   "outputs": [
    {
     "data": {
      "text/html": [
       "<div>\n",
       "<style scoped>\n",
       "    .dataframe tbody tr th:only-of-type {\n",
       "        vertical-align: middle;\n",
       "    }\n",
       "\n",
       "    .dataframe tbody tr th {\n",
       "        vertical-align: top;\n",
       "    }\n",
       "\n",
       "    .dataframe thead th {\n",
       "        text-align: right;\n",
       "    }\n",
       "</style>\n",
       "<table border=\"1\" class=\"dataframe\">\n",
       "  <thead>\n",
       "    <tr style=\"text-align: right;\">\n",
       "      <th></th>\n",
       "      <th>gender</th>\n",
       "      <th>SeniorCitizen</th>\n",
       "      <th>Partner</th>\n",
       "      <th>Dependents</th>\n",
       "      <th>tenure</th>\n",
       "      <th>PhoneService</th>\n",
       "      <th>MultipleLines</th>\n",
       "      <th>InternetService</th>\n",
       "      <th>OnlineSecurity</th>\n",
       "      <th>OnlineBackup</th>\n",
       "      <th>DeviceProtection</th>\n",
       "      <th>TechSupport</th>\n",
       "      <th>StreamingTV</th>\n",
       "      <th>StreamingMovies</th>\n",
       "      <th>Contract</th>\n",
       "      <th>PaperlessBilling</th>\n",
       "      <th>PaymentMethod</th>\n",
       "      <th>MonthlyCharges</th>\n",
       "      <th>TotalCharges</th>\n",
       "      <th>Churn</th>\n",
       "    </tr>\n",
       "  </thead>\n",
       "  <tbody>\n",
       "    <tr>\n",
       "      <th>count</th>\n",
       "      <td>5098.000000</td>\n",
       "      <td>5098.000000</td>\n",
       "      <td>5098.000000</td>\n",
       "      <td>5098.000000</td>\n",
       "      <td>5098.000000</td>\n",
       "      <td>5098.000000</td>\n",
       "      <td>5098.000000</td>\n",
       "      <td>5098.000000</td>\n",
       "      <td>5098.000000</td>\n",
       "      <td>5098.000000</td>\n",
       "      <td>5098.000000</td>\n",
       "      <td>5098.000000</td>\n",
       "      <td>5098.000000</td>\n",
       "      <td>5098.000000</td>\n",
       "      <td>5098.000000</td>\n",
       "      <td>5098.000000</td>\n",
       "      <td>5098.000000</td>\n",
       "      <td>5098.000000</td>\n",
       "      <td>5098.000000</td>\n",
       "      <td>5098.000000</td>\n",
       "    </tr>\n",
       "    <tr>\n",
       "      <th>mean</th>\n",
       "      <td>0.505689</td>\n",
       "      <td>0.159474</td>\n",
       "      <td>0.481758</td>\n",
       "      <td>0.296391</td>\n",
       "      <td>32.237591</td>\n",
       "      <td>0.907022</td>\n",
       "      <td>0.944684</td>\n",
       "      <td>0.877991</td>\n",
       "      <td>0.792271</td>\n",
       "      <td>0.907611</td>\n",
       "      <td>0.909965</td>\n",
       "      <td>0.790702</td>\n",
       "      <td>0.986858</td>\n",
       "      <td>0.998627</td>\n",
       "      <td>0.683798</td>\n",
       "      <td>0.590428</td>\n",
       "      <td>1.568458</td>\n",
       "      <td>64.726476</td>\n",
       "      <td>2271.073521</td>\n",
       "      <td>0.262260</td>\n",
       "    </tr>\n",
       "    <tr>\n",
       "      <th>std</th>\n",
       "      <td>0.500017</td>\n",
       "      <td>0.366154</td>\n",
       "      <td>0.499716</td>\n",
       "      <td>0.456710</td>\n",
       "      <td>24.604389</td>\n",
       "      <td>0.290430</td>\n",
       "      <td>0.950863</td>\n",
       "      <td>0.739601</td>\n",
       "      <td>0.858547</td>\n",
       "      <td>0.878479</td>\n",
       "      <td>0.878723</td>\n",
       "      <td>0.858166</td>\n",
       "      <td>0.883227</td>\n",
       "      <td>0.883324</td>\n",
       "      <td>0.832709</td>\n",
       "      <td>0.491803</td>\n",
       "      <td>1.067894</td>\n",
       "      <td>30.155178</td>\n",
       "      <td>2263.899757</td>\n",
       "      <td>0.439906</td>\n",
       "    </tr>\n",
       "    <tr>\n",
       "      <th>min</th>\n",
       "      <td>0.000000</td>\n",
       "      <td>0.000000</td>\n",
       "      <td>0.000000</td>\n",
       "      <td>0.000000</td>\n",
       "      <td>0.000000</td>\n",
       "      <td>0.000000</td>\n",
       "      <td>0.000000</td>\n",
       "      <td>0.000000</td>\n",
       "      <td>0.000000</td>\n",
       "      <td>0.000000</td>\n",
       "      <td>0.000000</td>\n",
       "      <td>0.000000</td>\n",
       "      <td>0.000000</td>\n",
       "      <td>0.000000</td>\n",
       "      <td>0.000000</td>\n",
       "      <td>0.000000</td>\n",
       "      <td>0.000000</td>\n",
       "      <td>18.250000</td>\n",
       "      <td>18.800000</td>\n",
       "      <td>0.000000</td>\n",
       "    </tr>\n",
       "    <tr>\n",
       "      <th>25%</th>\n",
       "      <td>0.000000</td>\n",
       "      <td>0.000000</td>\n",
       "      <td>0.000000</td>\n",
       "      <td>0.000000</td>\n",
       "      <td>9.000000</td>\n",
       "      <td>1.000000</td>\n",
       "      <td>0.000000</td>\n",
       "      <td>0.000000</td>\n",
       "      <td>0.000000</td>\n",
       "      <td>0.000000</td>\n",
       "      <td>0.000000</td>\n",
       "      <td>0.000000</td>\n",
       "      <td>0.000000</td>\n",
       "      <td>0.000000</td>\n",
       "      <td>0.000000</td>\n",
       "      <td>0.000000</td>\n",
       "      <td>1.000000</td>\n",
       "      <td>35.400000</td>\n",
       "      <td>389.950000</td>\n",
       "      <td>0.000000</td>\n",
       "    </tr>\n",
       "    <tr>\n",
       "      <th>50%</th>\n",
       "      <td>1.000000</td>\n",
       "      <td>0.000000</td>\n",
       "      <td>0.000000</td>\n",
       "      <td>0.000000</td>\n",
       "      <td>28.000000</td>\n",
       "      <td>1.000000</td>\n",
       "      <td>1.000000</td>\n",
       "      <td>1.000000</td>\n",
       "      <td>1.000000</td>\n",
       "      <td>1.000000</td>\n",
       "      <td>1.000000</td>\n",
       "      <td>1.000000</td>\n",
       "      <td>1.000000</td>\n",
       "      <td>1.000000</td>\n",
       "      <td>0.000000</td>\n",
       "      <td>1.000000</td>\n",
       "      <td>2.000000</td>\n",
       "      <td>70.375000</td>\n",
       "      <td>1397.950000</td>\n",
       "      <td>0.000000</td>\n",
       "    </tr>\n",
       "    <tr>\n",
       "      <th>75%</th>\n",
       "      <td>1.000000</td>\n",
       "      <td>0.000000</td>\n",
       "      <td>1.000000</td>\n",
       "      <td>1.000000</td>\n",
       "      <td>55.000000</td>\n",
       "      <td>1.000000</td>\n",
       "      <td>2.000000</td>\n",
       "      <td>1.000000</td>\n",
       "      <td>2.000000</td>\n",
       "      <td>2.000000</td>\n",
       "      <td>2.000000</td>\n",
       "      <td>2.000000</td>\n",
       "      <td>2.000000</td>\n",
       "      <td>2.000000</td>\n",
       "      <td>1.000000</td>\n",
       "      <td>1.000000</td>\n",
       "      <td>2.000000</td>\n",
       "      <td>89.950000</td>\n",
       "      <td>3723.212500</td>\n",
       "      <td>1.000000</td>\n",
       "    </tr>\n",
       "    <tr>\n",
       "      <th>max</th>\n",
       "      <td>1.000000</td>\n",
       "      <td>1.000000</td>\n",
       "      <td>1.000000</td>\n",
       "      <td>1.000000</td>\n",
       "      <td>72.000000</td>\n",
       "      <td>1.000000</td>\n",
       "      <td>2.000000</td>\n",
       "      <td>2.000000</td>\n",
       "      <td>2.000000</td>\n",
       "      <td>2.000000</td>\n",
       "      <td>2.000000</td>\n",
       "      <td>2.000000</td>\n",
       "      <td>2.000000</td>\n",
       "      <td>2.000000</td>\n",
       "      <td>2.000000</td>\n",
       "      <td>1.000000</td>\n",
       "      <td>3.000000</td>\n",
       "      <td>118.750000</td>\n",
       "      <td>8684.800000</td>\n",
       "      <td>1.000000</td>\n",
       "    </tr>\n",
       "  </tbody>\n",
       "</table>\n",
       "</div>"
      ],
      "text/plain": [
       "            gender  SeniorCitizen      Partner   Dependents       tenure  \\\n",
       "count  5098.000000    5098.000000  5098.000000  5098.000000  5098.000000   \n",
       "mean      0.505689       0.159474     0.481758     0.296391    32.237591   \n",
       "std       0.500017       0.366154     0.499716     0.456710    24.604389   \n",
       "min       0.000000       0.000000     0.000000     0.000000     0.000000   \n",
       "25%       0.000000       0.000000     0.000000     0.000000     9.000000   \n",
       "50%       1.000000       0.000000     0.000000     0.000000    28.000000   \n",
       "75%       1.000000       0.000000     1.000000     1.000000    55.000000   \n",
       "max       1.000000       1.000000     1.000000     1.000000    72.000000   \n",
       "\n",
       "       PhoneService  MultipleLines  InternetService  OnlineSecurity  \\\n",
       "count   5098.000000    5098.000000      5098.000000     5098.000000   \n",
       "mean       0.907022       0.944684         0.877991        0.792271   \n",
       "std        0.290430       0.950863         0.739601        0.858547   \n",
       "min        0.000000       0.000000         0.000000        0.000000   \n",
       "25%        1.000000       0.000000         0.000000        0.000000   \n",
       "50%        1.000000       1.000000         1.000000        1.000000   \n",
       "75%        1.000000       2.000000         1.000000        2.000000   \n",
       "max        1.000000       2.000000         2.000000        2.000000   \n",
       "\n",
       "       OnlineBackup  DeviceProtection  TechSupport  StreamingTV  \\\n",
       "count   5098.000000       5098.000000  5098.000000  5098.000000   \n",
       "mean       0.907611          0.909965     0.790702     0.986858   \n",
       "std        0.878479          0.878723     0.858166     0.883227   \n",
       "min        0.000000          0.000000     0.000000     0.000000   \n",
       "25%        0.000000          0.000000     0.000000     0.000000   \n",
       "50%        1.000000          1.000000     1.000000     1.000000   \n",
       "75%        2.000000          2.000000     2.000000     2.000000   \n",
       "max        2.000000          2.000000     2.000000     2.000000   \n",
       "\n",
       "       StreamingMovies     Contract  PaperlessBilling  PaymentMethod  \\\n",
       "count      5098.000000  5098.000000       5098.000000    5098.000000   \n",
       "mean          0.998627     0.683798          0.590428       1.568458   \n",
       "std           0.883324     0.832709          0.491803       1.067894   \n",
       "min           0.000000     0.000000          0.000000       0.000000   \n",
       "25%           0.000000     0.000000          0.000000       1.000000   \n",
       "50%           1.000000     0.000000          1.000000       2.000000   \n",
       "75%           2.000000     1.000000          1.000000       2.000000   \n",
       "max           2.000000     2.000000          1.000000       3.000000   \n",
       "\n",
       "       MonthlyCharges  TotalCharges        Churn  \n",
       "count     5098.000000   5098.000000  5098.000000  \n",
       "mean        64.726476   2271.073521     0.262260  \n",
       "std         30.155178   2263.899757     0.439906  \n",
       "min         18.250000     18.800000     0.000000  \n",
       "25%         35.400000    389.950000     0.000000  \n",
       "50%         70.375000   1397.950000     0.000000  \n",
       "75%         89.950000   3723.212500     1.000000  \n",
       "max        118.750000   8684.800000     1.000000  "
      ]
     },
     "execution_count": 697,
     "metadata": {},
     "output_type": "execute_result"
    }
   ],
   "source": [
    "df.describe()"
   ]
  },
  {
   "cell_type": "code",
   "execution_count": 698,
   "id": "23b93cc4",
   "metadata": {},
   "outputs": [
    {
     "data": {
      "text/plain": [
       "<AxesSubplot:>"
      ]
     },
     "execution_count": 698,
     "metadata": {},
     "output_type": "execute_result"
    },
    {
     "data": {
      "image/png": "[encoded data removed]",
      "text/plain": [
       "<Figure size 1584x504 with 2 Axes>"
      ]
     },
     "metadata": {
      "needs_background": "light"
     },
     "output_type": "display_data"
    }
   ],
   "source": [
    "import matplotlib.pyplot as plt\n",
    "plt.figure(figsize=(22,7))\n",
    "sns.heatmap(df.describe(),annot=True,linewidths=0.1,linecolor='white',fmt=\"0.2f\")"
   ]
  },
  {
   "cell_type": "markdown",
   "id": "8428b576",
   "metadata": {},
   "source": [
    "# Finding Correlation"
   ]
  },
  {
   "cell_type": "code",
   "execution_count": 699,
   "id": "3e49251a",
   "metadata": {},
   "outputs": [
    {
     "data": {
      "text/html": [
       "<div>\n",
       "<style scoped>\n",
       "    .dataframe tbody tr th:only-of-type {\n",
       "        vertical-align: middle;\n",
       "    }\n",
       "\n",
       "    .dataframe tbody tr th {\n",
       "        vertical-align: top;\n",
       "    }\n",
       "\n",
       "    .dataframe thead th {\n",
       "        text-align: right;\n",
       "    }\n",
       "</style>\n",
       "<table border=\"1\" class=\"dataframe\">\n",
       "  <thead>\n",
       "    <tr style=\"text-align: right;\">\n",
       "      <th></th>\n",
       "      <th>gender</th>\n",
       "      <th>SeniorCitizen</th>\n",
       "      <th>Partner</th>\n",
       "      <th>Dependents</th>\n",
       "      <th>tenure</th>\n",
       "      <th>PhoneService</th>\n",
       "      <th>MultipleLines</th>\n",
       "      <th>InternetService</th>\n",
       "      <th>OnlineSecurity</th>\n",
       "      <th>OnlineBackup</th>\n",
       "      <th>DeviceProtection</th>\n",
       "      <th>TechSupport</th>\n",
       "      <th>StreamingTV</th>\n",
       "      <th>StreamingMovies</th>\n",
       "      <th>Contract</th>\n",
       "      <th>PaperlessBilling</th>\n",
       "      <th>PaymentMethod</th>\n",
       "      <th>MonthlyCharges</th>\n",
       "      <th>TotalCharges</th>\n",
       "      <th>Churn</th>\n",
       "    </tr>\n",
       "  </thead>\n",
       "  <tbody>\n",
       "    <tr>\n",
       "      <th>gender</th>\n",
       "      <td>1.000000</td>\n",
       "      <td>-0.003349</td>\n",
       "      <td>0.003164</td>\n",
       "      <td>0.005932</td>\n",
       "      <td>0.008687</td>\n",
       "      <td>-0.007165</td>\n",
       "      <td>-0.013368</td>\n",
       "      <td>-0.007672</td>\n",
       "      <td>-0.027182</td>\n",
       "      <td>-0.009300</td>\n",
       "      <td>-0.007541</td>\n",
       "      <td>-0.006141</td>\n",
       "      <td>-0.005828</td>\n",
       "      <td>-0.009533</td>\n",
       "      <td>0.003850</td>\n",
       "      <td>-0.009672</td>\n",
       "      <td>0.011212</td>\n",
       "      <td>-0.013255</td>\n",
       "      <td>-0.000322</td>\n",
       "      <td>-0.011689</td>\n",
       "    </tr>\n",
       "    <tr>\n",
       "      <th>SeniorCitizen</th>\n",
       "      <td>-0.003349</td>\n",
       "      <td>1.000000</td>\n",
       "      <td>0.003572</td>\n",
       "      <td>-0.197061</td>\n",
       "      <td>0.010167</td>\n",
       "      <td>0.010315</td>\n",
       "      <td>0.139735</td>\n",
       "      <td>-0.041880</td>\n",
       "      <td>-0.129887</td>\n",
       "      <td>-0.020670</td>\n",
       "      <td>-0.007196</td>\n",
       "      <td>-0.150377</td>\n",
       "      <td>0.032569</td>\n",
       "      <td>0.047385</td>\n",
       "      <td>-0.140230</td>\n",
       "      <td>0.155780</td>\n",
       "      <td>-0.036707</td>\n",
       "      <td>0.218124</td>\n",
       "      <td>0.096904</td>\n",
       "      <td>0.145900</td>\n",
       "    </tr>\n",
       "    <tr>\n",
       "      <th>Partner</th>\n",
       "      <td>0.003164</td>\n",
       "      <td>0.003572</td>\n",
       "      <td>1.000000</td>\n",
       "      <td>0.459968</td>\n",
       "      <td>0.394335</td>\n",
       "      <td>0.026162</td>\n",
       "      <td>0.137436</td>\n",
       "      <td>0.006717</td>\n",
       "      <td>0.166081</td>\n",
       "      <td>0.153700</td>\n",
       "      <td>0.168052</td>\n",
       "      <td>0.127659</td>\n",
       "      <td>0.149037</td>\n",
       "      <td>0.133506</td>\n",
       "      <td>0.303917</td>\n",
       "      <td>-0.009652</td>\n",
       "      <td>-0.157035</td>\n",
       "      <td>0.095391</td>\n",
       "      <td>0.328946</td>\n",
       "      <td>-0.156283</td>\n",
       "    </tr>\n",
       "    <tr>\n",
       "      <th>Dependents</th>\n",
       "      <td>0.005932</td>\n",
       "      <td>-0.197061</td>\n",
       "      <td>0.459968</td>\n",
       "      <td>1.000000</td>\n",
       "      <td>0.163386</td>\n",
       "      <td>0.003682</td>\n",
       "      <td>-0.028651</td>\n",
       "      <td>0.048996</td>\n",
       "      <td>0.155050</td>\n",
       "      <td>0.081957</td>\n",
       "      <td>0.070418</td>\n",
       "      <td>0.133279</td>\n",
       "      <td>0.059269</td>\n",
       "      <td>0.019489</td>\n",
       "      <td>0.238741</td>\n",
       "      <td>-0.113671</td>\n",
       "      <td>-0.032560</td>\n",
       "      <td>-0.107431</td>\n",
       "      <td>0.070682</td>\n",
       "      <td>-0.162372</td>\n",
       "    </tr>\n",
       "    <tr>\n",
       "      <th>tenure</th>\n",
       "      <td>0.008687</td>\n",
       "      <td>0.010167</td>\n",
       "      <td>0.394335</td>\n",
       "      <td>0.163386</td>\n",
       "      <td>1.000000</td>\n",
       "      <td>0.010615</td>\n",
       "      <td>0.340168</td>\n",
       "      <td>-0.026600</td>\n",
       "      <td>0.331742</td>\n",
       "      <td>0.374323</td>\n",
       "      <td>0.377369</td>\n",
       "      <td>0.327670</td>\n",
       "      <td>0.297431</td>\n",
       "      <td>0.298587</td>\n",
       "      <td>0.680681</td>\n",
       "      <td>0.010621</td>\n",
       "      <td>-0.378458</td>\n",
       "      <td>0.243686</td>\n",
       "      <td>0.822924</td>\n",
       "      <td>-0.351284</td>\n",
       "    </tr>\n",
       "    <tr>\n",
       "      <th>PhoneService</th>\n",
       "      <td>-0.007165</td>\n",
       "      <td>0.010315</td>\n",
       "      <td>0.026162</td>\n",
       "      <td>0.003682</td>\n",
       "      <td>0.010615</td>\n",
       "      <td>1.000000</td>\n",
       "      <td>-0.018627</td>\n",
       "      <td>0.380115</td>\n",
       "      <td>-0.020822</td>\n",
       "      <td>0.014001</td>\n",
       "      <td>0.004092</td>\n",
       "      <td>-0.019843</td>\n",
       "      <td>0.051834</td>\n",
       "      <td>0.042329</td>\n",
       "      <td>-0.002336</td>\n",
       "      <td>0.012174</td>\n",
       "      <td>0.007875</td>\n",
       "      <td>0.239110</td>\n",
       "      <td>0.108397</td>\n",
       "      <td>0.009691</td>\n",
       "    </tr>\n",
       "    <tr>\n",
       "      <th>MultipleLines</th>\n",
       "      <td>-0.013368</td>\n",
       "      <td>0.139735</td>\n",
       "      <td>0.137436</td>\n",
       "      <td>-0.028651</td>\n",
       "      <td>0.340168</td>\n",
       "      <td>-0.018627</td>\n",
       "      <td>1.000000</td>\n",
       "      <td>-0.111705</td>\n",
       "      <td>0.008753</td>\n",
       "      <td>0.119069</td>\n",
       "      <td>0.116843</td>\n",
       "      <td>0.015863</td>\n",
       "      <td>0.174110</td>\n",
       "      <td>0.181873</td>\n",
       "      <td>0.116417</td>\n",
       "      <td>0.168447</td>\n",
       "      <td>-0.170936</td>\n",
       "      <td>0.429188</td>\n",
       "      <td>0.449379</td>\n",
       "      <td>0.038910</td>\n",
       "    </tr>\n",
       "    <tr>\n",
       "      <th>InternetService</th>\n",
       "      <td>-0.007672</td>\n",
       "      <td>-0.041880</td>\n",
       "      <td>0.006717</td>\n",
       "      <td>0.048996</td>\n",
       "      <td>-0.026600</td>\n",
       "      <td>0.380115</td>\n",
       "      <td>-0.111705</td>\n",
       "      <td>1.000000</td>\n",
       "      <td>-0.032197</td>\n",
       "      <td>0.036095</td>\n",
       "      <td>0.043168</td>\n",
       "      <td>-0.017676</td>\n",
       "      <td>0.102364</td>\n",
       "      <td>0.094341</td>\n",
       "      <td>0.094397</td>\n",
       "      <td>-0.139567</td>\n",
       "      <td>0.085844</td>\n",
       "      <td>-0.333681</td>\n",
       "      <td>-0.181606</td>\n",
       "      <td>-0.050577</td>\n",
       "    </tr>\n",
       "    <tr>\n",
       "      <th>OnlineSecurity</th>\n",
       "      <td>-0.027182</td>\n",
       "      <td>-0.129887</td>\n",
       "      <td>0.166081</td>\n",
       "      <td>0.155050</td>\n",
       "      <td>0.331742</td>\n",
       "      <td>-0.020822</td>\n",
       "      <td>0.008753</td>\n",
       "      <td>-0.032197</td>\n",
       "      <td>1.000000</td>\n",
       "      <td>0.192277</td>\n",
       "      <td>0.182470</td>\n",
       "      <td>0.300200</td>\n",
       "      <td>0.068068</td>\n",
       "      <td>0.066110</td>\n",
       "      <td>0.374907</td>\n",
       "      <td>-0.154143</td>\n",
       "      <td>-0.097794</td>\n",
       "      <td>-0.051432</td>\n",
       "      <td>0.261117</td>\n",
       "      <td>-0.290003</td>\n",
       "    </tr>\n",
       "    <tr>\n",
       "      <th>OnlineBackup</th>\n",
       "      <td>-0.009300</td>\n",
       "      <td>-0.020670</td>\n",
       "      <td>0.153700</td>\n",
       "      <td>0.081957</td>\n",
       "      <td>0.374323</td>\n",
       "      <td>0.014001</td>\n",
       "      <td>0.119069</td>\n",
       "      <td>0.036095</td>\n",
       "      <td>0.192277</td>\n",
       "      <td>1.000000</td>\n",
       "      <td>0.202968</td>\n",
       "      <td>0.197375</td>\n",
       "      <td>0.149393</td>\n",
       "      <td>0.147744</td>\n",
       "      <td>0.281093</td>\n",
       "      <td>-0.004954</td>\n",
       "      <td>-0.124070</td>\n",
       "      <td>0.120816</td>\n",
       "      <td>0.380257</td>\n",
       "      <td>-0.196208</td>\n",
       "    </tr>\n",
       "    <tr>\n",
       "      <th>DeviceProtection</th>\n",
       "      <td>-0.007541</td>\n",
       "      <td>-0.007196</td>\n",
       "      <td>0.168052</td>\n",
       "      <td>0.070418</td>\n",
       "      <td>0.377369</td>\n",
       "      <td>0.004092</td>\n",
       "      <td>0.116843</td>\n",
       "      <td>0.043168</td>\n",
       "      <td>0.182470</td>\n",
       "      <td>0.202968</td>\n",
       "      <td>1.000000</td>\n",
       "      <td>0.242724</td>\n",
       "      <td>0.283876</td>\n",
       "      <td>0.286221</td>\n",
       "      <td>0.358717</td>\n",
       "      <td>-0.027236</td>\n",
       "      <td>-0.145952</td>\n",
       "      <td>0.167153</td>\n",
       "      <td>0.396939</td>\n",
       "      <td>-0.181509</td>\n",
       "    </tr>\n",
       "    <tr>\n",
       "      <th>TechSupport</th>\n",
       "      <td>-0.006141</td>\n",
       "      <td>-0.150377</td>\n",
       "      <td>0.127659</td>\n",
       "      <td>0.133279</td>\n",
       "      <td>0.327670</td>\n",
       "      <td>-0.019843</td>\n",
       "      <td>0.015863</td>\n",
       "      <td>-0.017676</td>\n",
       "      <td>0.300200</td>\n",
       "      <td>0.197375</td>\n",
       "      <td>0.242724</td>\n",
       "      <td>1.000000</td>\n",
       "      <td>0.168503</td>\n",
       "      <td>0.170699</td>\n",
       "      <td>0.432584</td>\n",
       "      <td>-0.112038</td>\n",
       "      <td>-0.119129</td>\n",
       "      <td>-0.008040</td>\n",
       "      <td>0.281225</td>\n",
       "      <td>-0.297357</td>\n",
       "    </tr>\n",
       "    <tr>\n",
       "      <th>StreamingTV</th>\n",
       "      <td>-0.005828</td>\n",
       "      <td>0.032569</td>\n",
       "      <td>0.149037</td>\n",
       "      <td>0.059269</td>\n",
       "      <td>0.297431</td>\n",
       "      <td>0.051834</td>\n",
       "      <td>0.174110</td>\n",
       "      <td>0.102364</td>\n",
       "      <td>0.068068</td>\n",
       "      <td>0.149393</td>\n",
       "      <td>0.283876</td>\n",
       "      <td>0.168503</td>\n",
       "      <td>1.000000</td>\n",
       "      <td>0.442823</td>\n",
       "      <td>0.237366</td>\n",
       "      <td>0.099620</td>\n",
       "      <td>-0.114596</td>\n",
       "      <td>0.336452</td>\n",
       "      <td>0.397846</td>\n",
       "      <td>-0.037583</td>\n",
       "    </tr>\n",
       "    <tr>\n",
       "      <th>StreamingMovies</th>\n",
       "      <td>-0.009533</td>\n",
       "      <td>0.047385</td>\n",
       "      <td>0.133506</td>\n",
       "      <td>0.019489</td>\n",
       "      <td>0.298587</td>\n",
       "      <td>0.042329</td>\n",
       "      <td>0.181873</td>\n",
       "      <td>0.094341</td>\n",
       "      <td>0.066110</td>\n",
       "      <td>0.147744</td>\n",
       "      <td>0.286221</td>\n",
       "      <td>0.170699</td>\n",
       "      <td>0.442823</td>\n",
       "      <td>1.000000</td>\n",
       "      <td>0.229064</td>\n",
       "      <td>0.094449</td>\n",
       "      <td>-0.120845</td>\n",
       "      <td>0.339657</td>\n",
       "      <td>0.400857</td>\n",
       "      <td>-0.038455</td>\n",
       "    </tr>\n",
       "    <tr>\n",
       "      <th>Contract</th>\n",
       "      <td>0.003850</td>\n",
       "      <td>-0.140230</td>\n",
       "      <td>0.303917</td>\n",
       "      <td>0.238741</td>\n",
       "      <td>0.680681</td>\n",
       "      <td>-0.002336</td>\n",
       "      <td>0.116417</td>\n",
       "      <td>0.094397</td>\n",
       "      <td>0.374907</td>\n",
       "      <td>0.281093</td>\n",
       "      <td>0.358717</td>\n",
       "      <td>0.432584</td>\n",
       "      <td>0.237366</td>\n",
       "      <td>0.229064</td>\n",
       "      <td>1.000000</td>\n",
       "      <td>-0.174972</td>\n",
       "      <td>-0.232465</td>\n",
       "      <td>-0.070629</td>\n",
       "      <td>0.458278</td>\n",
       "      <td>-0.395928</td>\n",
       "    </tr>\n",
       "    <tr>\n",
       "      <th>PaperlessBilling</th>\n",
       "      <td>-0.009672</td>\n",
       "      <td>0.155780</td>\n",
       "      <td>-0.009652</td>\n",
       "      <td>-0.113671</td>\n",
       "      <td>0.010621</td>\n",
       "      <td>0.012174</td>\n",
       "      <td>0.168447</td>\n",
       "      <td>-0.139567</td>\n",
       "      <td>-0.154143</td>\n",
       "      <td>-0.004954</td>\n",
       "      <td>-0.027236</td>\n",
       "      <td>-0.112038</td>\n",
       "      <td>0.099620</td>\n",
       "      <td>0.094449</td>\n",
       "      <td>-0.174972</td>\n",
       "      <td>1.000000</td>\n",
       "      <td>-0.079218</td>\n",
       "      <td>0.358049</td>\n",
       "      <td>0.163951</td>\n",
       "      <td>0.191887</td>\n",
       "    </tr>\n",
       "    <tr>\n",
       "      <th>PaymentMethod</th>\n",
       "      <td>0.011212</td>\n",
       "      <td>-0.036707</td>\n",
       "      <td>-0.157035</td>\n",
       "      <td>-0.032560</td>\n",
       "      <td>-0.378458</td>\n",
       "      <td>0.007875</td>\n",
       "      <td>-0.170936</td>\n",
       "      <td>0.085844</td>\n",
       "      <td>-0.097794</td>\n",
       "      <td>-0.124070</td>\n",
       "      <td>-0.145952</td>\n",
       "      <td>-0.119129</td>\n",
       "      <td>-0.114596</td>\n",
       "      <td>-0.120845</td>\n",
       "      <td>-0.232465</td>\n",
       "      <td>-0.079218</td>\n",
       "      <td>1.000000</td>\n",
       "      <td>-0.195379</td>\n",
       "      <td>-0.335926</td>\n",
       "      <td>0.110244</td>\n",
       "    </tr>\n",
       "    <tr>\n",
       "      <th>MonthlyCharges</th>\n",
       "      <td>-0.013255</td>\n",
       "      <td>0.218124</td>\n",
       "      <td>0.095391</td>\n",
       "      <td>-0.107431</td>\n",
       "      <td>0.243686</td>\n",
       "      <td>0.239110</td>\n",
       "      <td>0.429188</td>\n",
       "      <td>-0.333681</td>\n",
       "      <td>-0.051432</td>\n",
       "      <td>0.120816</td>\n",
       "      <td>0.167153</td>\n",
       "      <td>-0.008040</td>\n",
       "      <td>0.336452</td>\n",
       "      <td>0.339657</td>\n",
       "      <td>-0.070629</td>\n",
       "      <td>0.358049</td>\n",
       "      <td>-0.195379</td>\n",
       "      <td>1.000000</td>\n",
       "      <td>0.648377</td>\n",
       "      <td>0.194949</td>\n",
       "    </tr>\n",
       "    <tr>\n",
       "      <th>TotalCharges</th>\n",
       "      <td>-0.000322</td>\n",
       "      <td>0.096904</td>\n",
       "      <td>0.328946</td>\n",
       "      <td>0.070682</td>\n",
       "      <td>0.822924</td>\n",
       "      <td>0.108397</td>\n",
       "      <td>0.449379</td>\n",
       "      <td>-0.181606</td>\n",
       "      <td>0.261117</td>\n",
       "      <td>0.380257</td>\n",
       "      <td>0.396939</td>\n",
       "      <td>0.281225</td>\n",
       "      <td>0.397846</td>\n",
       "      <td>0.400857</td>\n",
       "      <td>0.458278</td>\n",
       "      <td>0.163951</td>\n",
       "      <td>-0.335926</td>\n",
       "      <td>0.648377</td>\n",
       "      <td>1.000000</td>\n",
       "      <td>-0.200250</td>\n",
       "    </tr>\n",
       "    <tr>\n",
       "      <th>Churn</th>\n",
       "      <td>-0.011689</td>\n",
       "      <td>0.145900</td>\n",
       "      <td>-0.156283</td>\n",
       "      <td>-0.162372</td>\n",
       "      <td>-0.351284</td>\n",
       "      <td>0.009691</td>\n",
       "      <td>0.038910</td>\n",
       "      <td>-0.050577</td>\n",
       "      <td>-0.290003</td>\n",
       "      <td>-0.196208</td>\n",
       "      <td>-0.181509</td>\n",
       "      <td>-0.297357</td>\n",
       "      <td>-0.037583</td>\n",
       "      <td>-0.038455</td>\n",
       "      <td>-0.395928</td>\n",
       "      <td>0.191887</td>\n",
       "      <td>0.110244</td>\n",
       "      <td>0.194949</td>\n",
       "      <td>-0.200250</td>\n",
       "      <td>1.000000</td>\n",
       "    </tr>\n",
       "  </tbody>\n",
       "</table>\n",
       "</div>"
      ],
      "text/plain": [
       "                    gender  SeniorCitizen   Partner  Dependents    tenure  \\\n",
       "gender            1.000000      -0.003349  0.003164    0.005932  0.008687   \n",
       "SeniorCitizen    -0.003349       1.000000  0.003572   -0.197061  0.010167   \n",
       "Partner           0.003164       0.003572  1.000000    0.459968  0.394335   \n",
       "Dependents        0.005932      -0.197061  0.459968    1.000000  0.163386   \n",
       "tenure            0.008687       0.010167  0.394335    0.163386  1.000000   \n",
       "PhoneService     -0.007165       0.010315  0.026162    0.003682  0.010615   \n",
       "MultipleLines    -0.013368       0.139735  0.137436   -0.028651  0.340168   \n",
       "InternetService  -0.007672      -0.041880  0.006717    0.048996 -0.026600   \n",
       "OnlineSecurity   -0.027182      -0.129887  0.166081    0.155050  0.331742   \n",
       "OnlineBackup     -0.009300      -0.020670  0.153700    0.081957  0.374323   \n",
       "DeviceProtection -0.007541      -0.007196  0.168052    0.070418  0.377369   \n",
       "TechSupport      -0.006141      -0.150377  0.127659    0.133279  0.327670   \n",
       "StreamingTV      -0.005828       0.032569  0.149037    0.059269  0.297431   \n",
       "StreamingMovies  -0.009533       0.047385  0.133506    0.019489  0.298587   \n",
       "Contract          0.003850      -0.140230  0.303917    0.238741  0.680681   \n",
       "PaperlessBilling -0.009672       0.155780 -0.009652   -0.113671  0.010621   \n",
       "PaymentMethod     0.011212      -0.036707 -0.157035   -0.032560 -0.378458   \n",
       "MonthlyCharges   -0.013255       0.218124  0.095391   -0.107431  0.243686   \n",
       "TotalCharges     -0.000322       0.096904  0.328946    0.070682  0.822924   \n",
       "Churn            -0.011689       0.145900 -0.156283   -0.162372 -0.351284   \n",
       "\n",
       "                  PhoneService  MultipleLines  InternetService  \\\n",
       "gender               -0.007165      -0.013368        -0.007672   \n",
       "SeniorCitizen         0.010315       0.139735        -0.041880   \n",
       "Partner               0.026162       0.137436         0.006717   \n",
       "Dependents            0.003682      -0.028651         0.048996   \n",
       "tenure                0.010615       0.340168        -0.026600   \n",
       "PhoneService          1.000000      -0.018627         0.380115   \n",
       "MultipleLines        -0.018627       1.000000        -0.111705   \n",
       "InternetService       0.380115      -0.111705         1.000000   \n",
       "OnlineSecurity       -0.020822       0.008753        -0.032197   \n",
       "OnlineBackup          0.014001       0.119069         0.036095   \n",
       "DeviceProtection      0.004092       0.116843         0.043168   \n",
       "TechSupport          -0.019843       0.015863        -0.017676   \n",
       "StreamingTV           0.051834       0.174110         0.102364   \n",
       "StreamingMovies       0.042329       0.181873         0.094341   \n",
       "Contract             -0.002336       0.116417         0.094397   \n",
       "PaperlessBilling      0.012174       0.168447        -0.139567   \n",
       "PaymentMethod         0.007875      -0.170936         0.085844   \n",
       "MonthlyCharges        0.239110       0.429188        -0.333681   \n",
       "TotalCharges          0.108397       0.449379        -0.181606   \n",
       "Churn                 0.009691       0.038910        -0.050577   \n",
       "\n",
       "                  OnlineSecurity  OnlineBackup  DeviceProtection  TechSupport  \\\n",
       "gender                 -0.027182     -0.009300         -0.007541    -0.006141   \n",
       "SeniorCitizen          -0.129887     -0.020670         -0.007196    -0.150377   \n",
       "Partner                 0.166081      0.153700          0.168052     0.127659   \n",
       "Dependents              0.155050      0.081957          0.070418     0.133279   \n",
       "tenure                  0.331742      0.374323          0.377369     0.327670   \n",
       "PhoneService           -0.020822      0.014001          0.004092    -0.019843   \n",
       "MultipleLines           0.008753      0.119069          0.116843     0.015863   \n",
       "InternetService        -0.032197      0.036095          0.043168    -0.017676   \n",
       "OnlineSecurity          1.000000      0.192277          0.182470     0.300200   \n",
       "OnlineBackup            0.192277      1.000000          0.202968     0.197375   \n",
       "DeviceProtection        0.182470      0.202968          1.000000     0.242724   \n",
       "TechSupport             0.300200      0.197375          0.242724     1.000000   \n",
       "StreamingTV             0.068068      0.149393          0.283876     0.168503   \n",
       "StreamingMovies         0.066110      0.147744          0.286221     0.170699   \n",
       "Contract                0.374907      0.281093          0.358717     0.432584   \n",
       "PaperlessBilling       -0.154143     -0.004954         -0.027236    -0.112038   \n",
       "PaymentMethod          -0.097794     -0.124070         -0.145952    -0.119129   \n",
       "MonthlyCharges         -0.051432      0.120816          0.167153    -0.008040   \n",
       "TotalCharges            0.261117      0.380257          0.396939     0.281225   \n",
       "Churn                  -0.290003     -0.196208         -0.181509    -0.297357   \n",
       "\n",
       "                  StreamingTV  StreamingMovies  Contract  PaperlessBilling  \\\n",
       "gender              -0.005828        -0.009533  0.003850         -0.009672   \n",
       "SeniorCitizen        0.032569         0.047385 -0.140230          0.155780   \n",
       "Partner              0.149037         0.133506  0.303917         -0.009652   \n",
       "Dependents           0.059269         0.019489  0.238741         -0.113671   \n",
       "tenure               0.297431         0.298587  0.680681          0.010621   \n",
       "PhoneService         0.051834         0.042329 -0.002336          0.012174   \n",
       "MultipleLines        0.174110         0.181873  0.116417          0.168447   \n",
       "InternetService      0.102364         0.094341  0.094397         -0.139567   \n",
       "OnlineSecurity       0.068068         0.066110  0.374907         -0.154143   \n",
       "OnlineBackup         0.149393         0.147744  0.281093         -0.004954   \n",
       "DeviceProtection     0.283876         0.286221  0.358717         -0.027236   \n",
       "TechSupport          0.168503         0.170699  0.432584         -0.112038   \n",
       "StreamingTV          1.000000         0.442823  0.237366          0.099620   \n",
       "StreamingMovies      0.442823         1.000000  0.229064          0.094449   \n",
       "Contract             0.237366         0.229064  1.000000         -0.174972   \n",
       "PaperlessBilling     0.099620         0.094449 -0.174972          1.000000   \n",
       "PaymentMethod       -0.114596        -0.120845 -0.232465         -0.079218   \n",
       "MonthlyCharges       0.336452         0.339657 -0.070629          0.358049   \n",
       "TotalCharges         0.397846         0.400857  0.458278          0.163951   \n",
       "Churn               -0.037583        -0.038455 -0.395928          0.191887   \n",
       "\n",
       "                  PaymentMethod  MonthlyCharges  TotalCharges     Churn  \n",
       "gender                 0.011212       -0.013255     -0.000322 -0.011689  \n",
       "SeniorCitizen         -0.036707        0.218124      0.096904  0.145900  \n",
       "Partner               -0.157035        0.095391      0.328946 -0.156283  \n",
       "Dependents            -0.032560       -0.107431      0.070682 -0.162372  \n",
       "tenure                -0.378458        0.243686      0.822924 -0.351284  \n",
       "PhoneService           0.007875        0.239110      0.108397  0.009691  \n",
       "MultipleLines         -0.170936        0.429188      0.449379  0.038910  \n",
       "InternetService        0.085844       -0.333681     -0.181606 -0.050577  \n",
       "OnlineSecurity        -0.097794       -0.051432      0.261117 -0.290003  \n",
       "OnlineBackup          -0.124070        0.120816      0.380257 -0.196208  \n",
       "DeviceProtection      -0.145952        0.167153      0.396939 -0.181509  \n",
       "TechSupport           -0.119129       -0.008040      0.281225 -0.297357  \n",
       "StreamingTV           -0.114596        0.336452      0.397846 -0.037583  \n",
       "StreamingMovies       -0.120845        0.339657      0.400857 -0.038455  \n",
       "Contract              -0.232465       -0.070629      0.458278 -0.395928  \n",
       "PaperlessBilling      -0.079218        0.358049      0.163951  0.191887  \n",
       "PaymentMethod          1.000000       -0.195379     -0.335926  0.110244  \n",
       "MonthlyCharges        -0.195379        1.000000      0.648377  0.194949  \n",
       "TotalCharges          -0.335926        0.648377      1.000000 -0.200250  \n",
       "Churn                  0.110244        0.194949     -0.200250  1.000000  "
      ]
     },
     "execution_count": 699,
     "metadata": {},
     "output_type": "execute_result"
    }
   ],
   "source": [
    "df.corr()"
   ]
  },
  {
   "cell_type": "code",
   "execution_count": 700,
   "id": "0dbca00f",
   "metadata": {},
   "outputs": [
    {
     "data": {
      "text/plain": [
       "<AxesSubplot:>"
      ]
     },
     "execution_count": 700,
     "metadata": {},
     "output_type": "execute_result"
    },
    {
     "data": {
      "image/png": "[encoded data removed]",
      "text/plain": [
       "<Figure size 1584x504 with 2 Axes>"
      ]
     },
     "metadata": {
      "needs_background": "light"
     },
     "output_type": "display_data"
    }
   ],
   "source": [
    "plt.figure(figsize=(22,7))\n",
    "sns.heatmap(df.corr(),annot=True,linewidths=0.1,linecolor='black',fmt=\"0.2f\")"
   ]
  },
  {
   "cell_type": "markdown",
   "id": "fc1e6e36",
   "metadata": {},
   "source": [
    "# Corrleations of the columns with the target columns:"
   ]
  },
  {
   "cell_type": "code",
   "execution_count": 701,
   "id": "f5c5b84a",
   "metadata": {},
   "outputs": [
    {
     "data": {
      "text/plain": [
       "Contract           -0.395928\n",
       "tenure             -0.351284\n",
       "TechSupport        -0.297357\n",
       "OnlineSecurity     -0.290003\n",
       "TotalCharges       -0.200250\n",
       "OnlineBackup       -0.196208\n",
       "DeviceProtection   -0.181509\n",
       "Dependents         -0.162372\n",
       "Partner            -0.156283\n",
       "InternetService    -0.050577\n",
       "StreamingMovies    -0.038455\n",
       "StreamingTV        -0.037583\n",
       "gender             -0.011689\n",
       "PhoneService        0.009691\n",
       "MultipleLines       0.038910\n",
       "PaymentMethod       0.110244\n",
       "SeniorCitizen       0.145900\n",
       "PaperlessBilling    0.191887\n",
       "MonthlyCharges      0.194949\n",
       "Churn               1.000000\n",
       "Name: Churn, dtype: float64"
      ]
     },
     "execution_count": 701,
     "metadata": {},
     "output_type": "execute_result"
    }
   ],
   "source": [
    "df.corr()['Churn'].sort_values()"
   ]
  },
  {
   "cell_type": "code",
   "execution_count": 702,
   "id": "2a9836e1",
   "metadata": {},
   "outputs": [
    {
     "data": {
      "image/png": "[encoded data removed]",
      "text/plain": [
       "<Figure size 1080x576 with 1 Axes>"
      ]
     },
     "metadata": {
      "needs_background": "light"
     },
     "output_type": "display_data"
    }
   ],
   "source": [
    "plt.figure(figsize = (15,8))\n",
    "df.corr()['Churn'].sort_values(ascending = False).drop(['Churn']).plot(kind='bar',color = 'c')\n",
    "plt.xlabel('Features',fontsize=25)\n",
    "plt.ylabel('Churn',fontsize=25)\n",
    "plt.title('Correlation',fontsize = 25)\n",
    "plt.show()"
   ]
  },
  {
   "cell_type": "markdown",
   "id": "5eee53a9",
   "metadata": {},
   "source": [
    "# Checking for Skewness in Data"
   ]
  },
  {
   "cell_type": "code",
   "execution_count": 703,
   "id": "294928da",
   "metadata": {},
   "outputs": [
    {
     "data": {
      "image/png": "[encoded data removed]",
      "text/plain": [
       "<Figure size 1080x1656 with 3 Axes>"
      ]
     },
     "metadata": {
      "needs_background": "light"
     },
     "output_type": "display_data"
    }
   ],
   "source": [
    "#Let's check if there is any outliers present in our data columns by using box plot method\n",
    "\n",
    "features = ['tenure','MonthlyCharges','TotalCharges']\n",
    "\n",
    "plt.figure(figsize = (15,23))\n",
    "plotnumber = 1\n",
    "\n",
    "for i in features: #let's visualize only the features columns \n",
    "    if plotnumber<=16:\n",
    "        ax = plt.subplot(8,2,plotnumber)\n",
    "        sns.boxplot(df[i],color = 'Green')\n",
    "        plt.xlabel(i,fontsize = 20)\n",
    "    plotnumber += 1\n",
    "plt.tight_layout()"
   ]
  },
  {
   "cell_type": "code",
   "execution_count": 704,
   "id": "8d4f59b3",
   "metadata": {},
   "outputs": [
    {
     "data": {
      "text/plain": [
       "tenure            0.254619\n",
       "MonthlyCharges   -0.219733\n",
       "TotalCharges      0.974062\n",
       "dtype: float64"
      ]
     },
     "execution_count": 704,
     "metadata": {},
     "output_type": "execute_result"
    }
   ],
   "source": [
    "#Let's check the skewness for these columns\n",
    "\n",
    "df[features].skew()"
   ]
  },
  {
   "cell_type": "markdown",
   "id": "0b719e22",
   "metadata": {},
   "source": [
    "Skewness is present in \"TotalCharges\" column, we need to remove it"
   ]
  },
  {
   "cell_type": "markdown",
   "id": "77bc233d",
   "metadata": {},
   "source": [
    "# Reducing skewness further using PowerTransformer"
   ]
  },
  {
   "cell_type": "code",
   "execution_count": 705,
   "id": "a30a7e13",
   "metadata": {},
   "outputs": [],
   "source": [
    "from sklearn.preprocessing import PowerTransformer #importing the library\n",
    "\n",
    "scaler = PowerTransformer(method='yeo-johnson')\n",
    "    \n",
    "#applying Power Transformation method for this particular column\n",
    "df['TotalCharges'] = scaler.fit_transform(df['TotalCharges'].values.reshape(-1,1)) "
   ]
  },
  {
   "cell_type": "code",
   "execution_count": 706,
   "id": "a5934878",
   "metadata": {},
   "outputs": [
    {
     "data": {
      "text/plain": [
       "tenure            0.254619\n",
       "MonthlyCharges   -0.219733\n",
       "TotalCharges     -0.142272\n",
       "dtype: float64"
      ]
     },
     "execution_count": 706,
     "metadata": {},
     "output_type": "execute_result"
    }
   ],
   "source": [
    "#Let's re-check the skewness for these columns\n",
    "\n",
    "df[features].skew()"
   ]
  },
  {
   "cell_type": "markdown",
   "id": "cbf84c65",
   "metadata": {},
   "source": [
    "The skewness is removed"
   ]
  },
  {
   "cell_type": "markdown",
   "id": "a2f46ee9",
   "metadata": {},
   "source": [
    "# Over_Sampling the imbalanced target column"
   ]
  },
  {
   "cell_type": "code",
   "execution_count": 707,
   "id": "77cd4cd8",
   "metadata": {},
   "outputs": [
    {
     "data": {
      "text/html": [
       "<div>\n",
       "<style scoped>\n",
       "    .dataframe tbody tr th:only-of-type {\n",
       "        vertical-align: middle;\n",
       "    }\n",
       "\n",
       "    .dataframe tbody tr th {\n",
       "        vertical-align: top;\n",
       "    }\n",
       "\n",
       "    .dataframe thead th {\n",
       "        text-align: right;\n",
       "    }\n",
       "</style>\n",
       "<table border=\"1\" class=\"dataframe\">\n",
       "  <thead>\n",
       "    <tr style=\"text-align: right;\">\n",
       "      <th></th>\n",
       "      <th>gender</th>\n",
       "      <th>SeniorCitizen</th>\n",
       "      <th>Partner</th>\n",
       "      <th>Dependents</th>\n",
       "      <th>tenure</th>\n",
       "      <th>PhoneService</th>\n",
       "      <th>MultipleLines</th>\n",
       "      <th>InternetService</th>\n",
       "      <th>OnlineSecurity</th>\n",
       "      <th>OnlineBackup</th>\n",
       "      <th>DeviceProtection</th>\n",
       "      <th>TechSupport</th>\n",
       "      <th>StreamingTV</th>\n",
       "      <th>StreamingMovies</th>\n",
       "      <th>Contract</th>\n",
       "      <th>PaperlessBilling</th>\n",
       "      <th>PaymentMethod</th>\n",
       "      <th>MonthlyCharges</th>\n",
       "      <th>TotalCharges</th>\n",
       "      <th>Churn</th>\n",
       "    </tr>\n",
       "  </thead>\n",
       "  <tbody>\n",
       "    <tr>\n",
       "      <th>0</th>\n",
       "      <td>-1.011442</td>\n",
       "      <td>-0.435582</td>\n",
       "      <td>1.037175</td>\n",
       "      <td>-0.649033</td>\n",
       "      <td>-1.269719</td>\n",
       "      <td>-3.123343</td>\n",
       "      <td>0.05818</td>\n",
       "      <td>-1.187231</td>\n",
       "      <td>-0.922895</td>\n",
       "      <td>1.243622</td>\n",
       "      <td>-1.035655</td>\n",
       "      <td>-0.921477</td>\n",
       "      <td>-1.117441</td>\n",
       "      <td>-1.130644</td>\n",
       "      <td>-0.821253</td>\n",
       "      <td>0.832879</td>\n",
       "      <td>0.404145</td>\n",
       "      <td>-1.156680</td>\n",
       "      <td>-1.811416</td>\n",
       "      <td>-0.596230</td>\n",
       "    </tr>\n",
       "    <tr>\n",
       "      <th>1</th>\n",
       "      <td>0.988687</td>\n",
       "      <td>-0.435582</td>\n",
       "      <td>-0.964157</td>\n",
       "      <td>-0.649033</td>\n",
       "      <td>0.071637</td>\n",
       "      <td>0.320170</td>\n",
       "      <td>-0.99360</td>\n",
       "      <td>-1.187231</td>\n",
       "      <td>1.406850</td>\n",
       "      <td>-1.033263</td>\n",
       "      <td>1.240598</td>\n",
       "      <td>-0.921477</td>\n",
       "      <td>-1.117441</td>\n",
       "      <td>-1.130644</td>\n",
       "      <td>0.379765</td>\n",
       "      <td>-1.200654</td>\n",
       "      <td>1.340659</td>\n",
       "      <td>-0.257907</td>\n",
       "      <td>0.261436</td>\n",
       "      <td>-0.596230</td>\n",
       "    </tr>\n",
       "    <tr>\n",
       "      <th>2</th>\n",
       "      <td>0.988687</td>\n",
       "      <td>-0.435582</td>\n",
       "      <td>-0.964157</td>\n",
       "      <td>-0.649033</td>\n",
       "      <td>-1.229072</td>\n",
       "      <td>0.320170</td>\n",
       "      <td>-0.99360</td>\n",
       "      <td>-1.187231</td>\n",
       "      <td>1.406850</td>\n",
       "      <td>1.243622</td>\n",
       "      <td>-1.035655</td>\n",
       "      <td>-0.921477</td>\n",
       "      <td>-1.117441</td>\n",
       "      <td>-1.130644</td>\n",
       "      <td>-0.821253</td>\n",
       "      <td>0.832879</td>\n",
       "      <td>1.340659</td>\n",
       "      <td>-0.360719</td>\n",
       "      <td>-1.383437</td>\n",
       "      <td>1.677204</td>\n",
       "    </tr>\n",
       "    <tr>\n",
       "      <th>3</th>\n",
       "      <td>0.988687</td>\n",
       "      <td>-0.435582</td>\n",
       "      <td>-0.964157</td>\n",
       "      <td>-0.649033</td>\n",
       "      <td>0.518755</td>\n",
       "      <td>-3.123343</td>\n",
       "      <td>0.05818</td>\n",
       "      <td>-1.187231</td>\n",
       "      <td>1.406850</td>\n",
       "      <td>-1.033263</td>\n",
       "      <td>1.240598</td>\n",
       "      <td>1.409304</td>\n",
       "      <td>-1.117441</td>\n",
       "      <td>-1.130644</td>\n",
       "      <td>0.379765</td>\n",
       "      <td>-1.200654</td>\n",
       "      <td>-1.468883</td>\n",
       "      <td>-0.743775</td>\n",
       "      <td>0.240421</td>\n",
       "      <td>-0.596230</td>\n",
       "    </tr>\n",
       "    <tr>\n",
       "      <th>4</th>\n",
       "      <td>-1.011442</td>\n",
       "      <td>-0.435582</td>\n",
       "      <td>-0.964157</td>\n",
       "      <td>-0.649033</td>\n",
       "      <td>-1.229072</td>\n",
       "      <td>0.320170</td>\n",
       "      <td>-0.99360</td>\n",
       "      <td>0.164982</td>\n",
       "      <td>-0.922895</td>\n",
       "      <td>-1.033263</td>\n",
       "      <td>-1.035655</td>\n",
       "      <td>-0.921477</td>\n",
       "      <td>-1.117441</td>\n",
       "      <td>-1.130644</td>\n",
       "      <td>-0.821253</td>\n",
       "      <td>0.832879</td>\n",
       "      <td>0.404145</td>\n",
       "      <td>0.198112</td>\n",
       "      <td>-1.245180</td>\n",
       "      <td>1.677204</td>\n",
       "    </tr>\n",
       "  </tbody>\n",
       "</table>\n",
       "</div>"
      ],
      "text/plain": [
       "     gender  SeniorCitizen   Partner  Dependents    tenure  PhoneService  \\\n",
       "0 -1.011442      -0.435582  1.037175   -0.649033 -1.269719     -3.123343   \n",
       "1  0.988687      -0.435582 -0.964157   -0.649033  0.071637      0.320170   \n",
       "2  0.988687      -0.435582 -0.964157   -0.649033 -1.229072      0.320170   \n",
       "3  0.988687      -0.435582 -0.964157   -0.649033  0.518755     -3.123343   \n",
       "4 -1.011442      -0.435582 -0.964157   -0.649033 -1.229072      0.320170   \n",
       "\n",
       "   MultipleLines  InternetService  OnlineSecurity  OnlineBackup  \\\n",
       "0        0.05818        -1.187231       -0.922895      1.243622   \n",
       "1       -0.99360        -1.187231        1.406850     -1.033263   \n",
       "2       -0.99360        -1.187231        1.406850      1.243622   \n",
       "3        0.05818        -1.187231        1.406850     -1.033263   \n",
       "4       -0.99360         0.164982       -0.922895     -1.033263   \n",
       "\n",
       "   DeviceProtection  TechSupport  StreamingTV  StreamingMovies  Contract  \\\n",
       "0         -1.035655    -0.921477    -1.117441        -1.130644 -0.821253   \n",
       "1          1.240598    -0.921477    -1.117441        -1.130644  0.379765   \n",
       "2         -1.035655    -0.921477    -1.117441        -1.130644 -0.821253   \n",
       "3          1.240598     1.409304    -1.117441        -1.130644  0.379765   \n",
       "4         -1.035655    -0.921477    -1.117441        -1.130644 -0.821253   \n",
       "\n",
       "   PaperlessBilling  PaymentMethod  MonthlyCharges  TotalCharges     Churn  \n",
       "0          0.832879       0.404145       -1.156680     -1.811416 -0.596230  \n",
       "1         -1.200654       1.340659       -0.257907      0.261436 -0.596230  \n",
       "2          0.832879       1.340659       -0.360719     -1.383437  1.677204  \n",
       "3         -1.200654      -1.468883       -0.743775      0.240421 -0.596230  \n",
       "4          0.832879       0.404145        0.198112     -1.245180  1.677204  "
      ]
     },
     "execution_count": 707,
     "metadata": {},
     "output_type": "execute_result"
    }
   ],
   "source": [
    "# Let's do Standard Scaling(x)\n",
    "from sklearn.preprocessing import StandardScaler\n",
    "sc=StandardScaler()\n",
    "x=sc.fit_transform(df)\n",
    "x=pd.DataFrame(x,columns=df.columns)\n",
    "x.head()"
   ]
  },
  {
   "cell_type": "code",
   "execution_count": 708,
   "id": "7a5476ec",
   "metadata": {},
   "outputs": [
    {
     "data": {
      "image/png": "[encoded data removed]",
      "text/plain": [
       "<Figure size 432x288 with 1 Axes>"
      ]
     },
     "metadata": {
      "needs_background": "light"
     },
     "output_type": "display_data"
    }
   ],
   "source": [
    "sns.countplot(y)\n",
    "plt.show()"
   ]
  },
  {
   "cell_type": "markdown",
   "id": "a6a4ad62",
   "metadata": {},
   "source": [
    "After applying \"Over Sampling Method\", the target column \"Churn\" data class is now balanced"
   ]
  },
  {
   "cell_type": "markdown",
   "id": "4be6a88f",
   "metadata": {},
   "source": [
    "# Feature Selection"
   ]
  },
  {
   "cell_type": "code",
   "execution_count": 709,
   "id": "8ab3eeda",
   "metadata": {},
   "outputs": [],
   "source": [
    "from sklearn.model_selection import train_test_split,cross_val_score\n",
    "x_train,x_test,y_train,y_test=train_test_split(x,y,test_size=0.2,random_state=45,stratify=y)"
   ]
  },
  {
   "cell_type": "code",
   "execution_count": 710,
   "id": "0a313f71",
   "metadata": {},
   "outputs": [
    {
     "data": {
      "text/plain": [
       "((4078, 20), (1020, 20), (4078,), (1020,))"
      ]
     },
     "execution_count": 710,
     "metadata": {},
     "output_type": "execute_result"
    }
   ],
   "source": [
    "x_train.shape,x_test.shape,y_train.shape,y_test.shape"
   ]
  },
  {
   "cell_type": "code",
   "execution_count": 711,
   "id": "336b2b97",
   "metadata": {},
   "outputs": [],
   "source": [
    "from sklearn.neighbors import KNeighborsClassifier\n",
    "from sklearn.svm import SVC\n",
    "from sklearn.linear_model import LogisticRegression\n",
    "from sklearn.tree import DecisionTreeClassifier\n",
    "from sklearn.naive_bayes import GaussianNB\n",
    "from sklearn.ensemble import RandomForestClassifier,GradientBoostingClassifier,AdaBoostClassifier,ExtraTreesClassifier\n",
    "from sklearn.metrics import classification_report,confusion_matrix,accuracy_score,roc_curve,auc\n",
    "from sklearn.metrics import f1_score, precision_score, recall_score"
   ]
  },
  {
   "cell_type": "code",
   "execution_count": 712,
   "id": "2a4f0b1d",
   "metadata": {},
   "outputs": [],
   "source": [
    "KNN=KNeighborsClassifier()\n",
    "SV=SVC()\n",
    "LR=LogisticRegression()\n",
    "DT=DecisionTreeClassifier(random_state=45)\n",
    "GNB=GaussianNB()\n",
    "RFC=RandomForestClassifier(random_state=45)\n",
    "GBC=GradientBoostingClassifier(random_state=45)\n",
    "ABC=AdaBoostClassifier(random_state=45)\n",
    "ETC=ExtraTreesClassifier(random_state=45)"
   ]
  },
  {
   "cell_type": "code",
   "execution_count": 713,
   "id": "8dbbd3b9",
   "metadata": {},
   "outputs": [],
   "source": [
    "models = []\n",
    "models.append(('KNeighborsClassifier', KNN))\n",
    "models.append(('SVC', SV))\n",
    "models.append(('LogisticRegression', LR))\n",
    "models.append(('DecisionTreeClassifier', DT))\n",
    "models.append(('GaussianNB', GNB))\n",
    "models.append(('RandomForestClassifier', RFC))\n",
    "models.append(('GradientBoostingClassifier', GBC))\n",
    "models.append(('ExtraTreesClassifier',ETC))\n",
    "models.append(('AdaBoostClassifier',ABC))"
   ]
  },
  {
   "cell_type": "code",
   "execution_count": 724,
   "id": "ec0a0155",
   "metadata": {},
   "outputs": [
    {
     "name": "stdout",
     "output_type": "stream",
     "text": [
      "---------------------> KNeighborsClassifier <----------------------\n",
      "\n",
      "\n",
      "KNeighborsClassifier()\n",
      "\n",
      "\n",
      "Accuracy_score =  0.9862745098039216\n",
      "\n",
      "\n",
      "Cross_Val_Score =  0.98469740745021\n",
      "\n",
      "\n",
      "classification_report\n",
      "               precision    recall  f1-score   support\n",
      "\n",
      "          No       0.98      1.00      0.99       752\n",
      "         Yes       1.00      0.95      0.97       268\n",
      "\n",
      "    accuracy                           0.99      1020\n",
      "   macro avg       0.99      0.97      0.98      1020\n",
      "weighted avg       0.99      0.99      0.99      1020\n",
      "\n",
      "\n",
      "\n",
      "[[752   0]\n",
      " [ 14 254]]\n",
      "\n",
      "\n",
      "AxesSubplot(0.125,0.808774;0.62x0.0712264)\n",
      "---------------------> SVC <----------------------\n",
      "\n",
      "\n",
      "SVC()\n",
      "\n",
      "\n",
      "Accuracy_score =  1.0\n",
      "\n",
      "\n",
      "Cross_Val_Score =  1.0\n",
      "\n",
      "\n",
      "classification_report\n",
      "               precision    recall  f1-score   support\n",
      "\n",
      "          No       1.00      1.00      1.00       752\n",
      "         Yes       1.00      1.00      1.00       268\n",
      "\n",
      "    accuracy                           1.00      1020\n",
      "   macro avg       1.00      1.00      1.00      1020\n",
      "weighted avg       1.00      1.00      1.00      1020\n",
      "\n",
      "\n",
      "\n",
      "[[752   0]\n",
      " [  0 268]]\n",
      "\n",
      "\n",
      "AxesSubplot(0.125,0.808774;0.62x0.0712264)\n",
      "---------------------> LogisticRegression <----------------------\n",
      "\n",
      "\n",
      "LogisticRegression()\n",
      "\n",
      "\n",
      "Accuracy_score =  1.0\n",
      "\n",
      "\n",
      "Cross_Val_Score =  1.0\n",
      "\n",
      "\n",
      "classification_report\n",
      "               precision    recall  f1-score   support\n",
      "\n",
      "          No       1.00      1.00      1.00       752\n",
      "         Yes       1.00      1.00      1.00       268\n",
      "\n",
      "    accuracy                           1.00      1020\n",
      "   macro avg       1.00      1.00      1.00      1020\n",
      "weighted avg       1.00      1.00      1.00      1020\n",
      "\n",
      "\n",
      "\n",
      "[[752   0]\n",
      " [  0 268]]\n",
      "\n",
      "\n",
      "AxesSubplot(0.125,0.808774;0.62x0.0712264)\n",
      "---------------------> DecisionTreeClassifier <----------------------\n",
      "\n",
      "\n",
      "DecisionTreeClassifier(random_state=45)\n",
      "\n",
      "\n",
      "Accuracy_score =  1.0\n",
      "\n",
      "\n",
      "Cross_Val_Score =  1.0\n",
      "\n",
      "\n",
      "classification_report\n",
      "               precision    recall  f1-score   support\n",
      "\n",
      "          No       1.00      1.00      1.00       752\n",
      "         Yes       1.00      1.00      1.00       268\n",
      "\n",
      "    accuracy                           1.00      1020\n",
      "   macro avg       1.00      1.00      1.00      1020\n",
      "weighted avg       1.00      1.00      1.00      1020\n",
      "\n",
      "\n",
      "\n",
      "[[752   0]\n",
      " [  0 268]]\n",
      "\n",
      "\n",
      "AxesSubplot(0.125,0.808774;0.62x0.0712264)\n",
      "---------------------> GaussianNB <----------------------\n",
      "\n",
      "\n",
      "GaussianNB()\n",
      "\n",
      "\n",
      "Accuracy_score =  1.0\n",
      "\n",
      "\n",
      "Cross_Val_Score =  1.0\n",
      "\n",
      "\n",
      "classification_report\n",
      "               precision    recall  f1-score   support\n",
      "\n",
      "          No       1.00      1.00      1.00       752\n",
      "         Yes       1.00      1.00      1.00       268\n",
      "\n",
      "    accuracy                           1.00      1020\n",
      "   macro avg       1.00      1.00      1.00      1020\n",
      "weighted avg       1.00      1.00      1.00      1020\n",
      "\n",
      "\n",
      "\n",
      "[[752   0]\n",
      " [  0 268]]\n",
      "\n",
      "\n",
      "AxesSubplot(0.125,0.808774;0.62x0.0712264)\n",
      "---------------------> RandomForestClassifier <----------------------\n",
      "\n",
      "\n",
      "RandomForestClassifier(random_state=45)\n",
      "\n",
      "\n",
      "Accuracy_score =  1.0\n",
      "\n",
      "\n",
      "Cross_Val_Score =  1.0\n",
      "\n",
      "\n",
      "classification_report\n",
      "               precision    recall  f1-score   support\n",
      "\n",
      "          No       1.00      1.00      1.00       752\n",
      "         Yes       1.00      1.00      1.00       268\n",
      "\n",
      "    accuracy                           1.00      1020\n",
      "   macro avg       1.00      1.00      1.00      1020\n",
      "weighted avg       1.00      1.00      1.00      1020\n",
      "\n",
      "\n",
      "\n",
      "[[752   0]\n",
      " [  0 268]]\n",
      "\n",
      "\n",
      "AxesSubplot(0.125,0.808774;0.62x0.0712264)\n",
      "---------------------> GradientBoostingClassifier <----------------------\n",
      "\n",
      "\n",
      "GradientBoostingClassifier(random_state=45)\n",
      "\n",
      "\n",
      "Accuracy_score =  1.0\n",
      "\n",
      "\n",
      "Cross_Val_Score =  1.0\n",
      "\n",
      "\n",
      "classification_report\n",
      "               precision    recall  f1-score   support\n",
      "\n",
      "          No       1.00      1.00      1.00       752\n",
      "         Yes       1.00      1.00      1.00       268\n",
      "\n",
      "    accuracy                           1.00      1020\n",
      "   macro avg       1.00      1.00      1.00      1020\n",
      "weighted avg       1.00      1.00      1.00      1020\n",
      "\n",
      "\n",
      "\n",
      "[[752   0]\n",
      " [  0 268]]\n",
      "\n",
      "\n",
      "AxesSubplot(0.125,0.808774;0.62x0.0712264)\n",
      "---------------------> ExtraTreesClassifier <----------------------\n",
      "\n",
      "\n",
      "ExtraTreesClassifier(random_state=45)\n",
      "\n",
      "\n",
      "Accuracy_score =  1.0\n",
      "\n",
      "\n",
      "Cross_Val_Score =  1.0\n",
      "\n",
      "\n",
      "classification_report\n",
      "               precision    recall  f1-score   support\n",
      "\n",
      "          No       1.00      1.00      1.00       752\n",
      "         Yes       1.00      1.00      1.00       268\n",
      "\n",
      "    accuracy                           1.00      1020\n",
      "   macro avg       1.00      1.00      1.00      1020\n",
      "weighted avg       1.00      1.00      1.00      1020\n",
      "\n",
      "\n",
      "\n",
      "[[752   0]\n",
      " [  0 268]]\n",
      "\n",
      "\n",
      "AxesSubplot(0.125,0.808774;0.62x0.0712264)\n",
      "---------------------> AdaBoostClassifier <----------------------\n",
      "\n",
      "\n",
      "AdaBoostClassifier(random_state=45)\n",
      "\n",
      "\n",
      "Accuracy_score =  1.0\n",
      "\n",
      "\n",
      "Cross_Val_Score =  1.0\n",
      "\n",
      "\n",
      "classification_report\n",
      "               precision    recall  f1-score   support\n",
      "\n",
      "          No       1.00      1.00      1.00       752\n",
      "         Yes       1.00      1.00      1.00       268\n",
      "\n",
      "    accuracy                           1.00      1020\n",
      "   macro avg       1.00      1.00      1.00      1020\n",
      "weighted avg       1.00      1.00      1.00      1020\n",
      "\n",
      "\n",
      "\n",
      "[[752   0]\n",
      " [  0 268]]\n",
      "\n",
      "\n",
      "AxesSubplot(0.125,0.808774;0.62x0.0712264)\n"
     ]
    },
    {
     "data": {
      "image/png": "[encoded data removed]",
      "text/plain": [
       "<Figure size 720x2880 with 2 Axes>"
      ]
     },
     "metadata": {
      "needs_background": "light"
     },
     "output_type": "display_data"
    },
    {
     "data": {
      "image/png": "[encoded data removed]",
      "text/plain": [
       "<Figure size 720x2880 with 2 Axes>"
      ]
     },
     "metadata": {
      "needs_background": "light"
     },
     "output_type": "display_data"
    },
    {
     "data": {
      "image/png": "[encoded data removed]",
      "text/plain": [
       "<Figure size 720x2880 with 2 Axes>"
      ]
     },
     "metadata": {
      "needs_background": "light"
     },
     "output_type": "display_data"
    },
    {
     "data": {
      "image/png": "[encoded data removed]",
      "text/plain": [
       "<Figure size 720x2880 with 2 Axes>"
      ]
     },
     "metadata": {
      "needs_background": "light"
     },
     "output_type": "display_data"
    },
    {
     "data": {
      "image/png": "[encoded data removed]",
      "text/plain": [
       "<Figure size 720x2880 with 2 Axes>"
      ]
     },
     "metadata": {
      "needs_background": "light"
     },
     "output_type": "display_data"
    },
    {
     "data": {
      "image/png": "[encoded data removed]",
      "text/plain": [
       "<Figure size 720x2880 with 2 Axes>"
      ]
     },
     "metadata": {
      "needs_background": "light"
     },
     "output_type": "display_data"
    },
    {
     "data": {
      "image/png": "[encoded data removed]",
      "text/plain": [
       "<Figure size 720x2880 with 2 Axes>"
      ]
     },
     "metadata": {
      "needs_background": "light"
     },
     "output_type": "display_data"
    },
    {
     "data": {
      "image/png": "[encoded data removed]",
      "text/plain": [
       "<Figure size 720x2880 with 2 Axes>"
      ]
     },
     "metadata": {
      "needs_background": "light"
     },
     "output_type": "display_data"
    },
    {
     "data": {
      "image/png": "[encoded data removed]",
      "text/plain": [
       "<Figure size 720x2880 with 2 Axes>"
      ]
     },
     "metadata": {
      "needs_background": "light"
     },
     "output_type": "display_data"
    }
   ],
   "source": [
    "Model = []\n",
    "score = []\n",
    "cvs=[]\n",
    "rocscore=[]\n",
    "for name,model in models:\n",
    "    print('--------------------->',name,'<----------------------')\n",
    "    print('\\n')\n",
    "    Model.append(name)\n",
    "    model.fit(x_train,y_train)\n",
    "    print(model)\n",
    "    pre=model.predict(x_test)\n",
    "    print('\\n')\n",
    "    AS=accuracy_score(y_test,pre)\n",
    "    print('Accuracy_score = ',AS)\n",
    "    score.append(AS)\n",
    "    print('\\n')\n",
    "    sc = cross_val_score(model, x, y, cv=10, scoring='accuracy').mean()\n",
    "    print('Cross_Val_Score = ',sc)\n",
    "    cvs.append(sc)\n",
    "    print('\\n')\n",
    "    print('classification_report\\n',classification_report(y_test,pre))\n",
    "    print('\\n')\n",
    "    cm=confusion_matrix(y_test,pre)\n",
    "    print(cm)\n",
    "    print('\\n')\n",
    "    plt.figure(figsize=(10,40))\n",
    "    plt.subplot(911)\n",
    "    plt.title(name)\n",
    "    print(sns.heatmap(cm,annot=True))"
   ]
  },
  {
   "cell_type": "code",
   "execution_count": 717,
   "id": "7df56dd6",
   "metadata": {
    "scrolled": false
   },
   "outputs": [
    {
     "data": {
      "text/html": [
       "<div>\n",
       "<style scoped>\n",
       "    .dataframe tbody tr th:only-of-type {\n",
       "        vertical-align: middle;\n",
       "    }\n",
       "\n",
       "    .dataframe tbody tr th {\n",
       "        vertical-align: top;\n",
       "    }\n",
       "\n",
       "    .dataframe thead th {\n",
       "        text-align: right;\n",
       "    }\n",
       "</style>\n",
       "<table border=\"1\" class=\"dataframe\">\n",
       "  <thead>\n",
       "    <tr style=\"text-align: right;\">\n",
       "      <th></th>\n",
       "      <th>Model</th>\n",
       "      <th>Accuracy_score</th>\n",
       "      <th>Cross_val_score</th>\n",
       "    </tr>\n",
       "  </thead>\n",
       "  <tbody>\n",
       "    <tr>\n",
       "      <th>0</th>\n",
       "      <td>KNeighborsClassifier</td>\n",
       "      <td>0.986275</td>\n",
       "      <td>1.0</td>\n",
       "    </tr>\n",
       "    <tr>\n",
       "      <th>1</th>\n",
       "      <td>SVC</td>\n",
       "      <td>1.000000</td>\n",
       "      <td>1.0</td>\n",
       "    </tr>\n",
       "    <tr>\n",
       "      <th>2</th>\n",
       "      <td>LogisticRegression</td>\n",
       "      <td>1.000000</td>\n",
       "      <td>1.0</td>\n",
       "    </tr>\n",
       "    <tr>\n",
       "      <th>3</th>\n",
       "      <td>DecisionTreeClassifier</td>\n",
       "      <td>1.000000</td>\n",
       "      <td>1.0</td>\n",
       "    </tr>\n",
       "    <tr>\n",
       "      <th>4</th>\n",
       "      <td>GaussianNB</td>\n",
       "      <td>1.000000</td>\n",
       "      <td>1.0</td>\n",
       "    </tr>\n",
       "    <tr>\n",
       "      <th>5</th>\n",
       "      <td>RandomForestClassifier</td>\n",
       "      <td>1.000000</td>\n",
       "      <td>1.0</td>\n",
       "    </tr>\n",
       "    <tr>\n",
       "      <th>6</th>\n",
       "      <td>GradientBoostingClassifier</td>\n",
       "      <td>1.000000</td>\n",
       "      <td>1.0</td>\n",
       "    </tr>\n",
       "    <tr>\n",
       "      <th>7</th>\n",
       "      <td>ExtraTreesClassifier</td>\n",
       "      <td>1.000000</td>\n",
       "      <td>1.0</td>\n",
       "    </tr>\n",
       "    <tr>\n",
       "      <th>8</th>\n",
       "      <td>AdaBoostClassifier</td>\n",
       "      <td>1.000000</td>\n",
       "      <td>1.0</td>\n",
       "    </tr>\n",
       "  </tbody>\n",
       "</table>\n",
       "</div>"
      ],
      "text/plain": [
       "                        Model  Accuracy_score  Cross_val_score\n",
       "0        KNeighborsClassifier        0.986275              1.0\n",
       "1                         SVC        1.000000              1.0\n",
       "2          LogisticRegression        1.000000              1.0\n",
       "3      DecisionTreeClassifier        1.000000              1.0\n",
       "4                  GaussianNB        1.000000              1.0\n",
       "5      RandomForestClassifier        1.000000              1.0\n",
       "6  GradientBoostingClassifier        1.000000              1.0\n",
       "7        ExtraTreesClassifier        1.000000              1.0\n",
       "8          AdaBoostClassifier        1.000000              1.0"
      ]
     },
     "execution_count": 717,
     "metadata": {},
     "output_type": "execute_result"
    }
   ],
   "source": [
    "result = pd.DataFrame({'Model': Model, 'Accuracy_score': score ,'Cross_val_score':sc})\n",
    "result"
   ]
  },
  {
   "cell_type": "markdown",
   "id": "9ba23e24",
   "metadata": {},
   "source": [
    "# Selecting ExtraTreesClassifier as my final model."
   ]
  },
  {
   "cell_type": "code",
   "execution_count": 645,
   "id": "7ffa482e",
   "metadata": {},
   "outputs": [
    {
     "data": {
      "text/plain": [
       "['Customer_Churn.pkl']"
      ]
     },
     "execution_count": 645,
     "metadata": {},
     "output_type": "execute_result"
    }
   ],
   "source": [
    "import joblib\n",
    "joblib.dump(ETC,'Customer_Churn.pkl')"
   ]
  },
  {
   "cell_type": "code",
   "execution_count": 725,
   "id": "c9565d6d",
   "metadata": {},
   "outputs": [],
   "source": [
    "model=joblib.load('Customer_Churn.pkl')"
   ]
  },
  {
   "cell_type": "code",
   "execution_count": 726,
   "id": "6a9e1fda",
   "metadata": {},
   "outputs": [],
   "source": [
    "prediction=model.predict(x_test)"
   ]
  },
  {
   "cell_type": "code",
   "execution_count": 727,
   "id": "b1c5da50",
   "metadata": {},
   "outputs": [],
   "source": [
    "pre = pd.DataFrame(prediction)\n",
    "pre.columns = [\"prediction\"]\n",
    "pre.to_csv(\"Customer_Churn_results.csv\")"
   ]
  },
  {
   "cell_type": "code",
   "execution_count": 729,
   "id": "a1e4dc3f",
   "metadata": {},
   "outputs": [
    {
     "data": {
      "text/html": [
       "<div>\n",
       "<style scoped>\n",
       "    .dataframe tbody tr th:only-of-type {\n",
       "        vertical-align: middle;\n",
       "    }\n",
       "\n",
       "    .dataframe tbody tr th {\n",
       "        vertical-align: top;\n",
       "    }\n",
       "\n",
       "    .dataframe thead th {\n",
       "        text-align: right;\n",
       "    }\n",
       "</style>\n",
       "<table border=\"1\" class=\"dataframe\">\n",
       "  <thead>\n",
       "    <tr style=\"text-align: right;\">\n",
       "      <th></th>\n",
       "      <th>0</th>\n",
       "      <th>1</th>\n",
       "      <th>2</th>\n",
       "      <th>3</th>\n",
       "      <th>4</th>\n",
       "      <th>5</th>\n",
       "      <th>6</th>\n",
       "      <th>7</th>\n",
       "      <th>8</th>\n",
       "      <th>9</th>\n",
       "      <th>...</th>\n",
       "      <th>1010</th>\n",
       "      <th>1011</th>\n",
       "      <th>1012</th>\n",
       "      <th>1013</th>\n",
       "      <th>1014</th>\n",
       "      <th>1015</th>\n",
       "      <th>1016</th>\n",
       "      <th>1017</th>\n",
       "      <th>1018</th>\n",
       "      <th>1019</th>\n",
       "    </tr>\n",
       "  </thead>\n",
       "  <tbody>\n",
       "    <tr>\n",
       "      <th>Predicted</th>\n",
       "      <td>Yes</td>\n",
       "      <td>No</td>\n",
       "      <td>No</td>\n",
       "      <td>No</td>\n",
       "      <td>No</td>\n",
       "      <td>No</td>\n",
       "      <td>No</td>\n",
       "      <td>No</td>\n",
       "      <td>Yes</td>\n",
       "      <td>No</td>\n",
       "      <td>...</td>\n",
       "      <td>No</td>\n",
       "      <td>No</td>\n",
       "      <td>No</td>\n",
       "      <td>No</td>\n",
       "      <td>Yes</td>\n",
       "      <td>Yes</td>\n",
       "      <td>No</td>\n",
       "      <td>No</td>\n",
       "      <td>Yes</td>\n",
       "      <td>No</td>\n",
       "    </tr>\n",
       "    <tr>\n",
       "      <th>Actual</th>\n",
       "      <td>Yes</td>\n",
       "      <td>No</td>\n",
       "      <td>No</td>\n",
       "      <td>No</td>\n",
       "      <td>No</td>\n",
       "      <td>No</td>\n",
       "      <td>No</td>\n",
       "      <td>No</td>\n",
       "      <td>Yes</td>\n",
       "      <td>No</td>\n",
       "      <td>...</td>\n",
       "      <td>No</td>\n",
       "      <td>No</td>\n",
       "      <td>No</td>\n",
       "      <td>No</td>\n",
       "      <td>Yes</td>\n",
       "      <td>Yes</td>\n",
       "      <td>No</td>\n",
       "      <td>No</td>\n",
       "      <td>Yes</td>\n",
       "      <td>No</td>\n",
       "    </tr>\n",
       "  </tbody>\n",
       "</table>\n",
       "<p>2 rows × 1020 columns</p>\n",
       "</div>"
      ],
      "text/plain": [
       "          0    1    2    3    4    5    6    7    8    9     ... 1010 1011  \\\n",
       "Predicted  Yes   No   No   No   No   No   No   No  Yes   No  ...   No   No   \n",
       "Actual     Yes   No   No   No   No   No   No   No  Yes   No  ...   No   No   \n",
       "\n",
       "          1012 1013 1014 1015 1016 1017 1018 1019  \n",
       "Predicted   No   No  Yes  Yes   No   No  Yes   No  \n",
       "Actual      No   No  Yes  Yes   No   No  Yes   No  \n",
       "\n",
       "[2 rows x 1020 columns]"
      ]
     },
     "execution_count": 729,
     "metadata": {},
     "output_type": "execute_result"
    }
   ],
   "source": [
    "#lets make a dataframe of actual answers vs predicted answers\n",
    "conclusion = pd.DataFrame((model.predict(x_test)[:],y_test[:]),index= ['Predicted','Actual'])\n",
    "conclusion"
   ]
  },
  {
   "cell_type": "code",
   "execution_count": null,
   "id": "27099697",
   "metadata": {},
   "outputs": [],
   "source": []
  },
  {
   "cell_type": "code",
   "execution_count": null,
   "id": "2bb30e22",
   "metadata": {},
   "outputs": [],
   "source": []
  },
  {
   "cell_type": "code",
   "execution_count": null,
   "id": "f2076b3c",
   "metadata": {},
   "outputs": [],
   "source": []
  },
  {
   "cell_type": "code",
   "execution_count": null,
   "id": "022601b7",
   "metadata": {},
   "outputs": [],
   "source": []
  },
  {
   "cell_type": "code",
   "execution_count": null,
   "id": "c1b72f2d",
   "metadata": {},
   "outputs": [],
   "source": []
  },
  {
   "cell_type": "code",
   "execution_count": null,
   "id": "b65c9782",
   "metadata": {},
   "outputs": [],
   "source": []
  },
  {
   "cell_type": "code",
   "execution_count": null,
   "id": "73cceaf8",
   "metadata": {},
   "outputs": [],
   "source": []
  },
  {
   "cell_type": "code",
   "execution_count": null,
   "id": "7dff432e",
   "metadata": {},
   "outputs": [],
   "source": []
  },
  {
   "cell_type": "code",
   "execution_count": null,
   "id": "5f1a507e",
   "metadata": {},
   "outputs": [],
   "source": []
  },
  {
   "cell_type": "code",
   "execution_count": null,
   "id": "5bc1ca84",
   "metadata": {},
   "outputs": [],
   "source": []
  },
  {
   "cell_type": "code",
   "execution_count": null,
   "id": "c34cd7a2",
   "metadata": {},
   "outputs": [],
   "source": []
  },
  {
   "cell_type": "code",
   "execution_count": null,
   "id": "8029569c",
   "metadata": {},
   "outputs": [],
   "source": []
  },
  {
   "cell_type": "code",
   "execution_count": null,
   "id": "02d974b5",
   "metadata": {},
   "outputs": [],
   "source": []
  },
  {
   "cell_type": "code",
   "execution_count": null,
   "id": "396f576d",
   "metadata": {},
   "outputs": [],
   "source": []
  },
  {
   "cell_type": "code",
   "execution_count": null,
   "id": "9ca9a453",
   "metadata": {},
   "outputs": [],
   "source": []
  },
  {
   "cell_type": "code",
   "execution_count": null,
   "id": "6f876be2",
   "metadata": {},
   "outputs": [],
   "source": []
  },
  {
   "cell_type": "code",
   "execution_count": null,
   "id": "37a165af",
   "metadata": {},
   "outputs": [],
   "source": []
  },
  {
   "cell_type": "code",
   "execution_count": null,
   "id": "93495bc1",
   "metadata": {},
   "outputs": [],
   "source": []
  },
  {
   "cell_type": "code",
   "execution_count": null,
   "id": "8cf23a62",
   "metadata": {},
   "outputs": [],
   "source": []
  },
  {
   "cell_type": "code",
   "execution_count": null,
   "id": "08db9071",
   "metadata": {},
   "outputs": [],
   "source": []
  },
  {
   "cell_type": "code",
   "execution_count": null,
   "id": "f1a6e58d",
   "metadata": {},
   "outputs": [],
   "source": []
  },
  {
   "cell_type": "code",
   "execution_count": null,
   "id": "c8bba2d1",
   "metadata": {},
   "outputs": [],
   "source": []
  },
  {
   "cell_type": "code",
   "execution_count": null,
   "id": "1e1f5f73",
   "metadata": {},
   "outputs": [],
   "source": []
  },
  {
   "cell_type": "code",
   "execution_count": null,
   "id": "ea8d9128",
   "metadata": {},
   "outputs": [],
   "source": []
  },
  {
   "cell_type": "code",
   "execution_count": null,
   "id": "ca77c6e1",
   "metadata": {},
   "outputs": [],
   "source": []
  },
  {
   "cell_type": "code",
   "execution_count": null,
   "id": "7515ebc1",
   "metadata": {},
   "outputs": [],
   "source": []
  },
  {
   "cell_type": "code",
   "execution_count": null,
   "id": "a239fd32",
   "metadata": {},
   "outputs": [],
   "source": []
  },
  {
   "cell_type": "code",
   "execution_count": null,
   "id": "7af179d6",
   "metadata": {},
   "outputs": [],
   "source": []
  },
  {
   "cell_type": "code",
   "execution_count": null,
   "id": "55dadf43",
   "metadata": {},
   "outputs": [],
   "source": []
  },
  {
   "cell_type": "code",
   "execution_count": null,
   "id": "e4845db9",
   "metadata": {},
   "outputs": [],
   "source": []
  },
  {
   "cell_type": "code",
   "execution_count": null,
   "id": "8f631bb4",
   "metadata": {},
   "outputs": [],
   "source": []
  },
  {
   "cell_type": "code",
   "execution_count": null,
   "id": "6b1bf1f9",
   "metadata": {},
   "outputs": [],
   "source": []
  },
  {
   "cell_type": "code",
   "execution_count": null,
   "id": "a89d7f6e",
   "metadata": {},
   "outputs": [],
   "source": []
  },
  {
   "cell_type": "code",
   "execution_count": null,
   "id": "38e23193",
   "metadata": {},
   "outputs": [],
   "source": []
  },
  {
   "cell_type": "code",
   "execution_count": null,
   "id": "358cc082",
   "metadata": {},
   "outputs": [],
   "source": []
  },
  {
   "cell_type": "code",
   "execution_count": null,
   "id": "c97c66ae",
   "metadata": {},
   "outputs": [],
   "source": []
  },
  {
   "cell_type": "code",
   "execution_count": null,
   "id": "c893a738",
   "metadata": {},
   "outputs": [],
   "source": []
  },
  {
   "cell_type": "code",
   "execution_count": null,
   "id": "175b9882",
   "metadata": {},
   "outputs": [],
   "source": []
  },
  {
   "cell_type": "code",
   "execution_count": null,
   "id": "7cb863e9",
   "metadata": {},
   "outputs": [],
   "source": []
  },
  {
   "cell_type": "code",
   "execution_count": null,
   "id": "2f269bd2",
   "metadata": {},
   "outputs": [],
   "source": []
  },
  {
   "cell_type": "code",
   "execution_count": null,
   "id": "8a10882e",
   "metadata": {},
   "outputs": [],
   "source": []
  },
  {
   "cell_type": "code",
   "execution_count": null,
   "id": "2fe60814",
   "metadata": {},
   "outputs": [],
   "source": []
  },
  {
   "cell_type": "code",
   "execution_count": null,
   "id": "6ed6ab53",
   "metadata": {},
   "outputs": [],
   "source": []
  },
  {
   "cell_type": "code",
   "execution_count": null,
   "id": "bd4b2d3c",
   "metadata": {},
   "outputs": [],
   "source": []
  },
  {
   "cell_type": "code",
   "execution_count": null,
   "id": "035bf6a6",
   "metadata": {},
   "outputs": [],
   "source": []
  },
  {
   "cell_type": "code",
   "execution_count": null,
   "id": "e072e1b7",
   "metadata": {},
   "outputs": [],
   "source": []
  },
  {
   "cell_type": "code",
   "execution_count": null,
   "id": "e93d10a2",
   "metadata": {},
   "outputs": [],
   "source": []
  },
  {
   "cell_type": "code",
   "execution_count": null,
   "id": "223d353a",
   "metadata": {},
   "outputs": [],
   "source": []
  },
  {
   "cell_type": "code",
   "execution_count": null,
   "id": "050e2009",
   "metadata": {},
   "outputs": [],
   "source": []
  },
  {
   "cell_type": "code",
   "execution_count": null,
   "id": "6473900e",
   "metadata": {},
   "outputs": [],
   "source": []
  },
  {
   "cell_type": "code",
   "execution_count": null,
   "id": "20a56c69",
   "metadata": {},
   "outputs": [],
   "source": []
  },
  {
   "cell_type": "code",
   "execution_count": null,
   "id": "a29527db",
   "metadata": {},
   "outputs": [],
   "source": []
  },
  {
   "cell_type": "code",
   "execution_count": null,
   "id": "f3196c44",
   "metadata": {},
   "outputs": [],
   "source": []
  },
  {
   "cell_type": "code",
   "execution_count": null,
   "id": "c501fd05",
   "metadata": {},
   "outputs": [],
   "source": []
  },
  {
   "cell_type": "code",
   "execution_count": null,
   "id": "ec112814",
   "metadata": {},
   "outputs": [],
   "source": []
  },
  {
   "cell_type": "code",
   "execution_count": null,
   "id": "0a47b6f1",
   "metadata": {},
   "outputs": [],
   "source": []
  },
  {
   "cell_type": "code",
   "execution_count": null,
   "id": "8d19cd47",
   "metadata": {},
   "outputs": [],
   "source": []
  },
  {
   "cell_type": "code",
   "execution_count": null,
   "id": "5952fcd1",
   "metadata": {},
   "outputs": [],
   "source": []
  },
  {
   "cell_type": "code",
   "execution_count": null,
   "id": "a1804caa",
   "metadata": {},
   "outputs": [],
   "source": []
  },
  {
   "cell_type": "code",
   "execution_count": null,
   "id": "b08fabd9",
   "metadata": {},
   "outputs": [],
   "source": []
  },
  {
   "cell_type": "code",
   "execution_count": null,
   "id": "6b6f954d",
   "metadata": {},
   "outputs": [],
   "source": []
  },
  {
   "cell_type": "code",
   "execution_count": null,
   "id": "6d214084",
   "metadata": {},
   "outputs": [],
   "source": []
  },
  {
   "cell_type": "code",
   "execution_count": null,
   "id": "a2932af1",
   "metadata": {},
   "outputs": [],
   "source": []
  },
  {
   "cell_type": "code",
   "execution_count": null,
   "id": "702f72b3",
   "metadata": {},
   "outputs": [],
   "source": []
  },
  {
   "cell_type": "code",
   "execution_count": null,
   "id": "6caa6828",
   "metadata": {},
   "outputs": [],
   "source": []
  },
  {
   "cell_type": "code",
   "execution_count": null,
   "id": "b2aacf1b",
   "metadata": {},
   "outputs": [],
   "source": []
  },
  {
   "cell_type": "code",
   "execution_count": null,
   "id": "d18f4fb4",
   "metadata": {},
   "outputs": [],
   "source": []
  },
  {
   "cell_type": "code",
   "execution_count": null,
   "id": "73389f43",
   "metadata": {},
   "outputs": [],
   "source": []
  },
  {
   "cell_type": "code",
   "execution_count": null,
   "id": "f17b6495",
   "metadata": {},
   "outputs": [],
   "source": []
  },
  {
   "cell_type": "code",
   "execution_count": null,
   "id": "e1f8120d",
   "metadata": {},
   "outputs": [],
   "source": []
  },
  {
   "cell_type": "code",
   "execution_count": null,
   "id": "bcf327a7",
   "metadata": {},
   "outputs": [],
   "source": []
  },
  {
   "cell_type": "code",
   "execution_count": null,
   "id": "76ea548a",
   "metadata": {},
   "outputs": [],
   "source": []
  },
  {
   "cell_type": "code",
   "execution_count": null,
   "id": "8f472808",
   "metadata": {},
   "outputs": [],
   "source": []
  },
  {
   "cell_type": "code",
   "execution_count": null,
   "id": "375135c3",
   "metadata": {},
   "outputs": [],
   "source": []
  },
  {
   "cell_type": "code",
   "execution_count": null,
   "id": "b1b989eb",
   "metadata": {},
   "outputs": [],
   "source": []
  },
  {
   "cell_type": "code",
   "execution_count": null,
   "id": "3a7b3dd2",
   "metadata": {},
   "outputs": [],
   "source": []
  },
  {
   "cell_type": "code",
   "execution_count": null,
   "id": "c6b57b96",
   "metadata": {},
   "outputs": [],
   "source": []
  },
  {
   "cell_type": "code",
   "execution_count": null,
   "id": "2d0b7c48",
   "metadata": {},
   "outputs": [],
   "source": []
  },
  {
   "cell_type": "code",
   "execution_count": null,
   "id": "ea94f199",
   "metadata": {},
   "outputs": [],
   "source": []
  },
  {
   "cell_type": "code",
   "execution_count": null,
   "id": "8068d922",
   "metadata": {},
   "outputs": [],
   "source": []
  },
  {
   "cell_type": "code",
   "execution_count": null,
   "id": "d50b716c",
   "metadata": {},
   "outputs": [],
   "source": []
  },
  {
   "cell_type": "code",
   "execution_count": null,
   "id": "32f9faf3",
   "metadata": {},
   "outputs": [],
   "source": []
  },
  {
   "cell_type": "code",
   "execution_count": null,
   "id": "ab2bd9a5",
   "metadata": {},
   "outputs": [],
   "source": []
  },
  {
   "cell_type": "code",
   "execution_count": null,
   "id": "8a68a6ec",
   "metadata": {},
   "outputs": [],
   "source": []
  },
  {
   "cell_type": "code",
   "execution_count": null,
   "id": "afd6c43f",
   "metadata": {},
   "outputs": [],
   "source": []
  },
  {
   "cell_type": "code",
   "execution_count": null,
   "id": "640573b1",
   "metadata": {},
   "outputs": [],
   "source": []
  },
  {
   "cell_type": "code",
   "execution_count": null,
   "id": "6c24e987",
   "metadata": {},
   "outputs": [],
   "source": []
  },
  {
   "cell_type": "code",
   "execution_count": null,
   "id": "746113e5",
   "metadata": {},
   "outputs": [],
   "source": []
  },
  {
   "cell_type": "code",
   "execution_count": null,
   "id": "7674b567",
   "metadata": {},
   "outputs": [],
   "source": []
  },
  {
   "cell_type": "code",
   "execution_count": null,
   "id": "6fa53c5e",
   "metadata": {},
   "outputs": [],
   "source": []
  },
  {
   "cell_type": "code",
   "execution_count": null,
   "id": "679d41ee",
   "metadata": {},
   "outputs": [],
   "source": []
  },
  {
   "cell_type": "code",
   "execution_count": null,
   "id": "ce4a157e",
   "metadata": {},
   "outputs": [],
   "source": []
  },
  {
   "cell_type": "code",
   "execution_count": null,
   "id": "ebbd3205",
   "metadata": {},
   "outputs": [],
   "source": []
  },
  {
   "cell_type": "code",
   "execution_count": null,
   "id": "042395d5",
   "metadata": {},
   "outputs": [],
   "source": []
  },
  {
   "cell_type": "code",
   "execution_count": null,
   "id": "0adc7dd0",
   "metadata": {},
   "outputs": [],
   "source": []
  },
  {
   "cell_type": "code",
   "execution_count": null,
   "id": "51f9ce13",
   "metadata": {},
   "outputs": [],
   "source": []
  },
  {
   "cell_type": "code",
   "execution_count": null,
   "id": "7a40b1d7",
   "metadata": {},
   "outputs": [],
   "source": []
  },
  {
   "cell_type": "code",
   "execution_count": null,
   "id": "ddb63662",
   "metadata": {},
   "outputs": [],
   "source": []
  },
  {
   "cell_type": "code",
   "execution_count": null,
   "id": "d68797c6",
   "metadata": {},
   "outputs": [],
   "source": []
  },
  {
   "cell_type": "code",
   "execution_count": null,
   "id": "554798c1",
   "metadata": {},
   "outputs": [],
   "source": []
  },
  {
   "cell_type": "code",
   "execution_count": null,
   "id": "49537b6d",
   "metadata": {},
   "outputs": [],
   "source": []
  },
  {
   "cell_type": "code",
   "execution_count": null,
   "id": "63478939",
   "metadata": {},
   "outputs": [],
   "source": []
  },
  {
   "cell_type": "code",
   "execution_count": null,
   "id": "d95ad4a0",
   "metadata": {},
   "outputs": [],
   "source": []
  },
  {
   "cell_type": "code",
   "execution_count": null,
   "id": "bec7645c",
   "metadata": {},
   "outputs": [],
   "source": []
  },
  {
   "cell_type": "code",
   "execution_count": null,
   "id": "c968d456",
   "metadata": {},
   "outputs": [],
   "source": []
  },
  {
   "cell_type": "code",
   "execution_count": null,
   "id": "c5a4e614",
   "metadata": {},
   "outputs": [],
   "source": []
  },
  {
   "cell_type": "code",
   "execution_count": null,
   "id": "765bd31a",
   "metadata": {},
   "outputs": [],
   "source": []
  },
  {
   "cell_type": "code",
   "execution_count": null,
   "id": "f7da7206",
   "metadata": {},
   "outputs": [],
   "source": []
  },
  {
   "cell_type": "code",
   "execution_count": null,
   "id": "568fdb01",
   "metadata": {},
   "outputs": [],
   "source": []
  },
  {
   "cell_type": "code",
   "execution_count": null,
   "id": "337234f7",
   "metadata": {},
   "outputs": [],
   "source": []
  },
  {
   "cell_type": "code",
   "execution_count": null,
   "id": "ba445564",
   "metadata": {},
   "outputs": [],
   "source": []
  },
  {
   "cell_type": "code",
   "execution_count": null,
   "id": "1b31e2fb",
   "metadata": {},
   "outputs": [],
   "source": []
  },
  {
   "cell_type": "code",
   "execution_count": null,
   "id": "49ee7c0d",
   "metadata": {},
   "outputs": [],
   "source": []
  },
  {
   "cell_type": "code",
   "execution_count": null,
   "id": "1147767e",
   "metadata": {},
   "outputs": [],
   "source": []
  },
  {
   "cell_type": "code",
   "execution_count": null,
   "id": "d1264e2e",
   "metadata": {},
   "outputs": [],
   "source": []
  },
  {
   "cell_type": "code",
   "execution_count": null,
   "id": "9355583a",
   "metadata": {},
   "outputs": [],
   "source": []
  },
  {
   "cell_type": "code",
   "execution_count": null,
   "id": "98545760",
   "metadata": {},
   "outputs": [],
   "source": []
  },
  {
   "cell_type": "code",
   "execution_count": null,
   "id": "bacb97bc",
   "metadata": {},
   "outputs": [],
   "source": []
  },
  {
   "cell_type": "code",
   "execution_count": null,
   "id": "92a0cb06",
   "metadata": {},
   "outputs": [],
   "source": []
  },
  {
   "cell_type": "code",
   "execution_count": null,
   "id": "a181369b",
   "metadata": {},
   "outputs": [],
   "source": []
  },
  {
   "cell_type": "code",
   "execution_count": null,
   "id": "4fbf0666",
   "metadata": {},
   "outputs": [],
   "source": []
  },
  {
   "cell_type": "code",
   "execution_count": null,
   "id": "79329c27",
   "metadata": {},
   "outputs": [],
   "source": []
  },
  {
   "cell_type": "code",
   "execution_count": null,
   "id": "8ba13964",
   "metadata": {},
   "outputs": [],
   "source": []
  },
  {
   "cell_type": "code",
   "execution_count": null,
   "id": "de634417",
   "metadata": {},
   "outputs": [],
   "source": []
  },
  {
   "cell_type": "code",
   "execution_count": null,
   "id": "a4bc7d01",
   "metadata": {},
   "outputs": [],
   "source": []
  },
  {
   "cell_type": "code",
   "execution_count": null,
   "id": "a4d3ed69",
   "metadata": {},
   "outputs": [],
   "source": []
  },
  {
   "cell_type": "code",
   "execution_count": null,
   "id": "34f0e9ff",
   "metadata": {},
   "outputs": [],
   "source": []
  },
  {
   "cell_type": "code",
   "execution_count": null,
   "id": "1572cac7",
   "metadata": {},
   "outputs": [],
   "source": []
  },
  {
   "cell_type": "code",
   "execution_count": null,
   "id": "c483a0c5",
   "metadata": {},
   "outputs": [],
   "source": []
  },
  {
   "cell_type": "code",
   "execution_count": null,
   "id": "3710cf70",
   "metadata": {},
   "outputs": [],
   "source": []
  },
  {
   "cell_type": "code",
   "execution_count": null,
   "id": "cf706862",
   "metadata": {},
   "outputs": [],
   "source": []
  },
  {
   "cell_type": "code",
   "execution_count": null,
   "id": "90f5fdce",
   "metadata": {},
   "outputs": [],
   "source": []
  },
  {
   "cell_type": "code",
   "execution_count": null,
   "id": "1a7ada3a",
   "metadata": {},
   "outputs": [],
   "source": []
  },
  {
   "cell_type": "code",
   "execution_count": null,
   "id": "07617bb6",
   "metadata": {},
   "outputs": [],
   "source": []
  },
  {
   "cell_type": "code",
   "execution_count": null,
   "id": "c2c4b114",
   "metadata": {},
   "outputs": [],
   "source": []
  },
  {
   "cell_type": "code",
   "execution_count": null,
   "id": "542b2100",
   "metadata": {},
   "outputs": [],
   "source": []
  },
  {
   "cell_type": "code",
   "execution_count": null,
   "id": "391c7184",
   "metadata": {},
   "outputs": [],
   "source": []
  },
  {
   "cell_type": "code",
   "execution_count": null,
   "id": "b0b1eb7d",
   "metadata": {},
   "outputs": [],
   "source": []
  },
  {
   "cell_type": "code",
   "execution_count": null,
   "id": "3116110d",
   "metadata": {},
   "outputs": [],
   "source": []
  },
  {
   "cell_type": "code",
   "execution_count": null,
   "id": "f24595a2",
   "metadata": {},
   "outputs": [],
   "source": []
  },
  {
   "cell_type": "code",
   "execution_count": null,
   "id": "1e7dd648",
   "metadata": {},
   "outputs": [],
   "source": []
  },
  {
   "cell_type": "code",
   "execution_count": null,
   "id": "b521ce26",
   "metadata": {},
   "outputs": [],
   "source": []
  },
  {
   "cell_type": "code",
   "execution_count": null,
   "id": "99daa6c0",
   "metadata": {},
   "outputs": [],
   "source": []
  },
  {
   "cell_type": "code",
   "execution_count": null,
   "id": "65758d56",
   "metadata": {},
   "outputs": [],
   "source": []
  },
  {
   "cell_type": "code",
   "execution_count": null,
   "id": "6a6f5f0f",
   "metadata": {},
   "outputs": [],
   "source": []
  },
  {
   "cell_type": "code",
   "execution_count": null,
   "id": "8a948d46",
   "metadata": {},
   "outputs": [],
   "source": []
  },
  {
   "cell_type": "code",
   "execution_count": null,
   "id": "9329cb78",
   "metadata": {},
   "outputs": [],
   "source": []
  },
  {
   "cell_type": "code",
   "execution_count": null,
   "id": "1495413e",
   "metadata": {},
   "outputs": [],
   "source": []
  },
  {
   "cell_type": "code",
   "execution_count": null,
   "id": "382a78f8",
   "metadata": {},
   "outputs": [],
   "source": []
  },
  {
   "cell_type": "code",
   "execution_count": null,
   "id": "77ec860d",
   "metadata": {},
   "outputs": [],
   "source": []
  },
  {
   "cell_type": "code",
   "execution_count": null,
   "id": "4f4658bf",
   "metadata": {},
   "outputs": [],
   "source": []
  },
  {
   "cell_type": "code",
   "execution_count": null,
   "id": "4dc30811",
   "metadata": {},
   "outputs": [],
   "source": []
  },
  {
   "cell_type": "code",
   "execution_count": null,
   "id": "c17f60f9",
   "metadata": {},
   "outputs": [],
   "source": []
  },
  {
   "cell_type": "code",
   "execution_count": null,
   "id": "f72ca864",
   "metadata": {},
   "outputs": [],
   "source": []
  },
  {
   "cell_type": "code",
   "execution_count": null,
   "id": "37d53d63",
   "metadata": {},
   "outputs": [],
   "source": []
  },
  {
   "cell_type": "code",
   "execution_count": null,
   "id": "edd3df9c",
   "metadata": {},
   "outputs": [],
   "source": []
  },
  {
   "cell_type": "code",
   "execution_count": null,
   "id": "da30444a",
   "metadata": {},
   "outputs": [],
   "source": []
  },
  {
   "cell_type": "code",
   "execution_count": null,
   "id": "c57751d3",
   "metadata": {},
   "outputs": [],
   "source": []
  },
  {
   "cell_type": "code",
   "execution_count": null,
   "id": "54a888dd",
   "metadata": {},
   "outputs": [],
   "source": []
  },
  {
   "cell_type": "code",
   "execution_count": null,
   "id": "fdfc0c8d",
   "metadata": {},
   "outputs": [],
   "source": []
  },
  {
   "cell_type": "code",
   "execution_count": null,
   "id": "34ee677e",
   "metadata": {},
   "outputs": [],
   "source": []
  },
  {
   "cell_type": "code",
   "execution_count": null,
   "id": "c01a195c",
   "metadata": {},
   "outputs": [],
   "source": []
  },
  {
   "cell_type": "code",
   "execution_count": null,
   "id": "37224e6b",
   "metadata": {},
   "outputs": [],
   "source": []
  },
  {
   "cell_type": "code",
   "execution_count": null,
   "id": "13b28fd6",
   "metadata": {},
   "outputs": [],
   "source": []
  },
  {
   "cell_type": "code",
   "execution_count": null,
   "id": "d4a0f5dc",
   "metadata": {},
   "outputs": [],
   "source": []
  },
  {
   "cell_type": "code",
   "execution_count": null,
   "id": "76d60363",
   "metadata": {},
   "outputs": [],
   "source": []
  },
  {
   "cell_type": "code",
   "execution_count": null,
   "id": "f90ba211",
   "metadata": {},
   "outputs": [],
   "source": []
  },
  {
   "cell_type": "code",
   "execution_count": null,
   "id": "5cb3e349",
   "metadata": {},
   "outputs": [],
   "source": []
  },
  {
   "cell_type": "code",
   "execution_count": null,
   "id": "f9f0a919",
   "metadata": {},
   "outputs": [],
   "source": []
  },
  {
   "cell_type": "code",
   "execution_count": null,
   "id": "6eacfecf",
   "metadata": {},
   "outputs": [],
   "source": []
  },
  {
   "cell_type": "code",
   "execution_count": null,
   "id": "d3a84511",
   "metadata": {},
   "outputs": [],
   "source": []
  },
  {
   "cell_type": "code",
   "execution_count": null,
   "id": "b4ecae20",
   "metadata": {},
   "outputs": [],
   "source": []
  },
  {
   "cell_type": "code",
   "execution_count": null,
   "id": "98d283ab",
   "metadata": {},
   "outputs": [],
   "source": []
  },
  {
   "cell_type": "code",
   "execution_count": null,
   "id": "182dd75e",
   "metadata": {},
   "outputs": [],
   "source": []
  },
  {
   "cell_type": "code",
   "execution_count": null,
   "id": "d9608137",
   "metadata": {},
   "outputs": [],
   "source": []
  },
  {
   "cell_type": "code",
   "execution_count": null,
   "id": "5712b6a9",
   "metadata": {},
   "outputs": [],
   "source": []
  },
  {
   "cell_type": "code",
   "execution_count": null,
   "id": "37b73a4c",
   "metadata": {},
   "outputs": [],
   "source": []
  },
  {
   "cell_type": "code",
   "execution_count": null,
   "id": "bb955fdc",
   "metadata": {},
   "outputs": [],
   "source": []
  },
  {
   "cell_type": "code",
   "execution_count": null,
   "id": "ff8e05ba",
   "metadata": {},
   "outputs": [],
   "source": []
  },
  {
   "cell_type": "code",
   "execution_count": null,
   "id": "15c3b0ce",
   "metadata": {},
   "outputs": [],
   "source": []
  }
 ],
 "metadata": {
  "kernelspec": {
   "display_name": "Python 3 (ipykernel)",
   "language": "python",
   "name": "python3"
  },
  "language_info": {
   "codemirror_mode": {
    "name": "ipython",
    "version": 3
   },
   "file_extension": ".py",
   "mimetype": "text/x-python",
   "name": "python",
   "nbconvert_exporter": "python",
   "pygments_lexer": "ipython3",
   "version": "3.9.12"
  }
 },
 "nbformat": 4,
 "nbformat_minor": 5
}
